{
 "cells": [
  {
   "cell_type": "markdown",
   "metadata": {},
   "source": [
    "# Instructions:\n",
    "1. Three files named : Data_An_1, Data_An_2 and Data_An_3 will be downloaded from Github repository.\n",
    "2. This script helps understanding how statistical functions can be applied to number of files having similar data format."
   ]
  },
  {
   "cell_type": "code",
   "execution_count": 1,
   "metadata": {},
   "outputs": [
    {
     "name": "stdout",
     "output_type": "stream",
     "text": [
      "File downloaded successfully.\n"
     ]
    }
   ],
   "source": [
    "# This will download file Data_An_1.csv from Github \n",
    "import requests \n",
    "\n",
    "csv_url = \"https://raw.githubusercontent.com/stm5131/nsfcybertraining/main/Data_Analytics_3/Data_An_1.csv\" # donwloading raw url\n",
    "\n",
    "response = requests.get(csv_url) \n",
    "\n",
    "if response.status_code == 200: \n",
    "\n",
    "    with open('Data_An_1.csv', 'wb') as f: \n",
    "        f.write(response.content) \n",
    "        print(\"File downloaded successfully.\") \n",
    "else: \n",
    "    print('Failed to download file.') "
   ]
  },
  {
   "cell_type": "code",
   "execution_count": 2,
   "metadata": {},
   "outputs": [
    {
     "name": "stdout",
     "output_type": "stream",
     "text": [
      "File downloaded successfully.\n"
     ]
    }
   ],
   "source": [
    "# This will download file Data_An_2.csv from Github \n",
    "import requests \n",
    "\n",
    "csv_url = \"https://raw.githubusercontent.com/stm5131/nsfcybertraining/main/Data_Analytics_3/Data_An_2.csv\" # donwloading raw url\n",
    "\n",
    "response = requests.get(csv_url) \n",
    "\n",
    "if response.status_code == 200: \n",
    "\n",
    "    with open('Data_An_2.csv', 'wb') as f: \n",
    "        f.write(response.content) \n",
    "        print(\"File downloaded successfully.\") \n",
    "else: \n",
    "    print('Failed to download file.') "
   ]
  },
  {
   "cell_type": "code",
   "execution_count": 3,
   "metadata": {},
   "outputs": [
    {
     "name": "stdout",
     "output_type": "stream",
     "text": [
      "File downloaded successfully.\n"
     ]
    }
   ],
   "source": [
    "# This will download file Data_An_3.csv from Github \n",
    "import requests \n",
    "\n",
    "csv_url = \"https://raw.githubusercontent.com/stm5131/nsfcybertraining/main/Data_Analytics_3/Data_An_3.csv\" # donwloading raw url\n",
    "\n",
    "response = requests.get(csv_url) \n",
    "\n",
    "if response.status_code == 200: \n",
    "\n",
    "    with open('Data_An_3.csv', 'wb') as f: \n",
    "        f.write(response.content) \n",
    "        print(\"File downloaded successfully.\") \n",
    "else: \n",
    "    print('Failed to download file.') "
   ]
  },
  {
   "cell_type": "code",
   "execution_count": 4,
   "metadata": {},
   "outputs": [],
   "source": [
    "import pandas as pd\n",
    "import os\n",
    "import glob"
   ]
  },
  {
   "cell_type": "code",
   "execution_count": 5,
   "metadata": {},
   "outputs": [
    {
     "data": {
      "text/plain": [
       "'/home/mygeohub/junaid7582/Data_Analytics'"
      ]
     },
     "execution_count": 5,
     "metadata": {},
     "output_type": "execute_result"
    }
   ],
   "source": [
    "# check current working directory using os\n",
    "os.getcwd()"
   ]
  },
  {
   "cell_type": "code",
   "execution_count": 6,
   "metadata": {},
   "outputs": [],
   "source": [
    "# change working directory to path where csv files are saved\n",
    "\n",
    "# define new path\n",
    "#path = \"https://raw.githubusercontent.com/stm5131/nsfcybertraining/main/Data_Analytics_3\"\n",
    "#os.chdir(path)"
   ]
  },
  {
   "cell_type": "code",
   "execution_count": 7,
   "metadata": {},
   "outputs": [],
   "source": [
    "# check current working directory \n",
    "path= os.getcwd()"
   ]
  },
  {
   "cell_type": "code",
   "execution_count": 8,
   "metadata": {},
   "outputs": [],
   "source": [
    "#use glob to get all the csv files\n",
    "csv_files = glob.glob(os.path.join(path, \"*.csv\"))"
   ]
  },
  {
   "cell_type": "code",
   "execution_count": 9,
   "metadata": {},
   "outputs": [
    {
     "data": {
      "text/plain": [
       "['/home/mygeohub/junaid7582/Data_Analytics/Data2.csv',\n",
       " '/home/mygeohub/junaid7582/Data_Analytics/Prcp1.csv',\n",
       " '/home/mygeohub/junaid7582/Data_Analytics/temp_2.csv',\n",
       " '/home/mygeohub/junaid7582/Data_Analytics/Data3.csv',\n",
       " '/home/mygeohub/junaid7582/Data_Analytics/Data_An_3.csv',\n",
       " '/home/mygeohub/junaid7582/Data_Analytics/Combine_Temp.csv',\n",
       " '/home/mygeohub/junaid7582/Data_Analytics/1.csv',\n",
       " '/home/mygeohub/junaid7582/Data_Analytics/Data_An_1.csv',\n",
       " '/home/mygeohub/junaid7582/Data_Analytics/temp_1.csv',\n",
       " '/home/mygeohub/junaid7582/Data_Analytics/Data_An_2.csv']"
      ]
     },
     "execution_count": 9,
     "metadata": {},
     "output_type": "execute_result"
    }
   ],
   "source": [
    "csv_files"
   ]
  },
  {
   "cell_type": "code",
   "execution_count": 10,
   "metadata": {},
   "outputs": [],
   "source": [
    "df = pd.read_csv('Data_An_2.csv')"
   ]
  },
  {
   "cell_type": "code",
   "execution_count": 11,
   "metadata": {},
   "outputs": [
    {
     "data": {
      "text/html": [
       "<div>\n",
       "<style scoped>\n",
       "    .dataframe tbody tr th:only-of-type {\n",
       "        vertical-align: middle;\n",
       "    }\n",
       "\n",
       "    .dataframe tbody tr th {\n",
       "        vertical-align: top;\n",
       "    }\n",
       "\n",
       "    .dataframe thead th {\n",
       "        text-align: right;\n",
       "    }\n",
       "</style>\n",
       "<table border=\"1\" class=\"dataframe\">\n",
       "  <thead>\n",
       "    <tr style=\"text-align: right;\">\n",
       "      <th></th>\n",
       "      <th>Date</th>\n",
       "      <th>Place3</th>\n",
       "      <th>Date.1</th>\n",
       "      <th>Place4</th>\n",
       "    </tr>\n",
       "  </thead>\n",
       "  <tbody>\n",
       "    <tr>\n",
       "      <th>0</th>\n",
       "      <td>1/1/2000</td>\n",
       "      <td>11.396683</td>\n",
       "      <td>1/1/2000</td>\n",
       "      <td>11.085740</td>\n",
       "    </tr>\n",
       "    <tr>\n",
       "      <th>1</th>\n",
       "      <td>1/2/2000</td>\n",
       "      <td>12.468655</td>\n",
       "      <td>1/2/2000</td>\n",
       "      <td>11.366641</td>\n",
       "    </tr>\n",
       "    <tr>\n",
       "      <th>2</th>\n",
       "      <td>1/3/2000</td>\n",
       "      <td>11.705490</td>\n",
       "      <td>1/3/2000</td>\n",
       "      <td>9.945792</td>\n",
       "    </tr>\n",
       "    <tr>\n",
       "      <th>3</th>\n",
       "      <td>1/4/2000</td>\n",
       "      <td>12.032916</td>\n",
       "      <td>1/4/2000</td>\n",
       "      <td>9.455346</td>\n",
       "    </tr>\n",
       "    <tr>\n",
       "      <th>4</th>\n",
       "      <td>1/5/2000</td>\n",
       "      <td>11.857729</td>\n",
       "      <td>1/5/2000</td>\n",
       "      <td>9.521205</td>\n",
       "    </tr>\n",
       "    <tr>\n",
       "      <th>...</th>\n",
       "      <td>...</td>\n",
       "      <td>...</td>\n",
       "      <td>...</td>\n",
       "      <td>...</td>\n",
       "    </tr>\n",
       "    <tr>\n",
       "      <th>361</th>\n",
       "      <td>12/27/2000</td>\n",
       "      <td>14.542254</td>\n",
       "      <td>12/27/2000</td>\n",
       "      <td>13.187980</td>\n",
       "    </tr>\n",
       "    <tr>\n",
       "      <th>362</th>\n",
       "      <td>12/28/2000</td>\n",
       "      <td>14.364106</td>\n",
       "      <td>12/28/2000</td>\n",
       "      <td>13.549269</td>\n",
       "    </tr>\n",
       "    <tr>\n",
       "      <th>363</th>\n",
       "      <td>12/29/2000</td>\n",
       "      <td>12.627567</td>\n",
       "      <td>12/29/2000</td>\n",
       "      <td>14.044566</td>\n",
       "    </tr>\n",
       "    <tr>\n",
       "      <th>364</th>\n",
       "      <td>12/30/2000</td>\n",
       "      <td>13.762445</td>\n",
       "      <td>12/30/2000</td>\n",
       "      <td>13.940522</td>\n",
       "    </tr>\n",
       "    <tr>\n",
       "      <th>365</th>\n",
       "      <td>12/31/2000</td>\n",
       "      <td>14.215368</td>\n",
       "      <td>12/31/2000</td>\n",
       "      <td>14.067135</td>\n",
       "    </tr>\n",
       "  </tbody>\n",
       "</table>\n",
       "<p>366 rows × 4 columns</p>\n",
       "</div>"
      ],
      "text/plain": [
       "           Date     Place3      Date.1     Place4\n",
       "0      1/1/2000  11.396683    1/1/2000  11.085740\n",
       "1      1/2/2000  12.468655    1/2/2000  11.366641\n",
       "2      1/3/2000  11.705490    1/3/2000   9.945792\n",
       "3      1/4/2000  12.032916    1/4/2000   9.455346\n",
       "4      1/5/2000  11.857729    1/5/2000   9.521205\n",
       "..          ...        ...         ...        ...\n",
       "361  12/27/2000  14.542254  12/27/2000  13.187980\n",
       "362  12/28/2000  14.364106  12/28/2000  13.549269\n",
       "363  12/29/2000  12.627567  12/29/2000  14.044566\n",
       "364  12/30/2000  13.762445  12/30/2000  13.940522\n",
       "365  12/31/2000  14.215368  12/31/2000  14.067135\n",
       "\n",
       "[366 rows x 4 columns]"
      ]
     },
     "execution_count": 11,
     "metadata": {},
     "output_type": "execute_result"
    }
   ],
   "source": [
    "df"
   ]
  },
  {
   "cell_type": "code",
   "execution_count": 12,
   "metadata": {},
   "outputs": [],
   "source": [
    "import os\n",
    "import pandas as pd\n",
    "from sklearn.metrics import r2_score\n",
    "\n",
    "# Get the current working directory\n",
    "cwd = os.getcwd()\n",
    "\n",
    "# Find all files starting with \"Data\" in the current directory\n",
    "csv_files = [file for file in os.listdir(cwd) if file.startswith(\"Data_An_\")]\n",
    "\n",
    "\n"
   ]
  },
  {
   "cell_type": "code",
   "execution_count": 13,
   "metadata": {},
   "outputs": [
    {
     "data": {
      "text/plain": [
       "['Data_An_3.csv', 'Data_An_1.csv', 'Data_An_2.csv']"
      ]
     },
     "execution_count": 13,
     "metadata": {},
     "output_type": "execute_result"
    }
   ],
   "source": [
    "csv_files"
   ]
  },
  {
   "cell_type": "code",
   "execution_count": 14,
   "metadata": {},
   "outputs": [],
   "source": [
    "# List to store R^2 values\n",
    "R_values = []\n",
    "\n",
    "# Iterate over the CSV files\n",
    "for file in csv_files:\n",
    "    # Read the CSV file\n",
    "    file_path = os.path.join(cwd, file)\n",
    "    df_N = pd.read_csv(file_path)\n",
    "    \n",
    "    # Process the dataframe\n",
    "    a = df_N.iloc[:, 1]  # reads column indexed at position 1 of the dataframe \n",
    "    b = df_N.iloc[:, 3]  # reads column indexed at position 3 of the dataframe \n",
    "    R_2 = r2_score(a, b) \n",
    "    R_values.append(R_2)\n"
   ]
  },
  {
   "cell_type": "code",
   "execution_count": 15,
   "metadata": {},
   "outputs": [
    {
     "data": {
      "text/plain": [
       "[-18.907651488529186, 0.7755689343069097, 0.8427058738425082]"
      ]
     },
     "execution_count": 15,
     "metadata": {},
     "output_type": "execute_result"
    }
   ],
   "source": [
    "R_values"
   ]
  },
  {
   "cell_type": "code",
   "execution_count": 17,
   "metadata": {},
   "outputs": [
    {
     "data": {
      "text/plain": [
       "list"
      ]
     },
     "execution_count": 17,
     "metadata": {},
     "output_type": "execute_result"
    }
   ],
   "source": [
    "# chekcing type of R_values\n",
    "type(R_values)"
   ]
  },
  {
   "cell_type": "code",
   "execution_count": 18,
   "metadata": {},
   "outputs": [],
   "source": [
    "# Converting list to dataframe\n",
    "df2 = pd.DataFrame(R_values, columns=['R_2 values'])\n",
    "# Saving dataframe to a csv files\n",
    "df2.to_csv('1.csv')"
   ]
  },
  {
   "cell_type": "code",
   "execution_count": 19,
   "metadata": {},
   "outputs": [
    {
     "data": {
      "text/html": [
       "<div>\n",
       "<style scoped>\n",
       "    .dataframe tbody tr th:only-of-type {\n",
       "        vertical-align: middle;\n",
       "    }\n",
       "\n",
       "    .dataframe tbody tr th {\n",
       "        vertical-align: top;\n",
       "    }\n",
       "\n",
       "    .dataframe thead th {\n",
       "        text-align: right;\n",
       "    }\n",
       "</style>\n",
       "<table border=\"1\" class=\"dataframe\">\n",
       "  <thead>\n",
       "    <tr style=\"text-align: right;\">\n",
       "      <th></th>\n",
       "      <th>R_2 values</th>\n",
       "    </tr>\n",
       "  </thead>\n",
       "  <tbody>\n",
       "    <tr>\n",
       "      <th>0</th>\n",
       "      <td>-18.907651</td>\n",
       "    </tr>\n",
       "    <tr>\n",
       "      <th>1</th>\n",
       "      <td>0.775569</td>\n",
       "    </tr>\n",
       "    <tr>\n",
       "      <th>2</th>\n",
       "      <td>0.842706</td>\n",
       "    </tr>\n",
       "  </tbody>\n",
       "</table>\n",
       "</div>"
      ],
      "text/plain": [
       "   R_2 values\n",
       "0  -18.907651\n",
       "1    0.775569\n",
       "2    0.842706"
      ]
     },
     "execution_count": 19,
     "metadata": {},
     "output_type": "execute_result"
    }
   ],
   "source": [
    "df2"
   ]
  },
  {
   "cell_type": "markdown",
   "metadata": {},
   "source": [
    "# Normalizing the data"
   ]
  },
  {
   "cell_type": "code",
   "execution_count": 20,
   "metadata": {},
   "outputs": [
    {
     "name": "stdout",
     "output_type": "stream",
     "text": [
      "[[0.02314326 0.02532012 0.02377036 0.02443526 0.02407951 0.0248495\n",
      "  0.02637163 0.02729412 0.02701995 0.02690246 0.02744875 0.02073644\n",
      "  0.01812189 0.01568888 0.01172811 0.01458059 0.01683385 0.02043153\n",
      "  0.02282171 0.02556961 0.02515053 0.02583227 0.02270718 0.02509394\n",
      "  0.02440792 0.02132519 0.01892098 0.02386962 0.02485804 0.02824194\n",
      "  0.02977589 0.02618988 0.01783098 0.02143955 0.02577673 0.02382332\n",
      "  0.02276205 0.02433679 0.02655286 0.02622146 0.02044916 0.0205979\n",
      "  0.02026606 0.01969257 0.0233358  0.02791594 0.0291734  0.02656662\n",
      "  0.02117105 0.02371706 0.02600032 0.0175735  0.02275306 0.02640001\n",
      "  0.02594724 0.02783779 0.02876452 0.0316403  0.03383262 0.03749835\n",
      "  0.03347073 0.03396668 0.03561967 0.03667569 0.02110781 0.02787545\n",
      "  0.03255742 0.03183092 0.03352472 0.03656459 0.040133   0.03786412\n",
      "  0.03498849 0.0349413  0.03638337 0.03987454 0.03880464 0.03284741\n",
      "  0.03367899 0.03522497 0.03734413 0.03608477 0.03717737 0.0387023\n",
      "  0.04166647 0.04722156 0.05013275 0.05122844 0.05067023 0.04843243\n",
      "  0.04821577 0.04483141 0.04485668 0.0493929  0.05088587 0.0476049\n",
      "  0.04792019 0.04946666 0.04835257 0.05159415 0.05276433 0.05493083\n",
      "  0.05823098 0.05857278 0.05689368 0.05412573 0.05643042 0.05804462\n",
      "  0.06112083 0.06152679 0.06069456 0.06317191 0.06233061 0.05783232\n",
      "  0.05731232 0.06093362 0.06423604 0.05991651 0.05744226 0.05705876\n",
      "  0.06040768 0.0600034  0.06229787 0.07070785 0.07214235 0.06764393\n",
      "  0.06598392 0.06615601 0.06528177 0.06889658 0.07245716 0.0741387\n",
      "  0.07153984 0.06529416 0.06441702 0.07056246 0.06893863 0.07217788\n",
      "  0.07123823 0.070075   0.06985762 0.07162905 0.07393975 0.07065782\n",
      "  0.07038517 0.07104765 0.06927454 0.07370347 0.07300902 0.07496536\n",
      "  0.07232379 0.06646576 0.06637371 0.06822747 0.06922434 0.06740723\n",
      "  0.0650639  0.06898018 0.07029875 0.06544978 0.06314346 0.06169064\n",
      "  0.06346363 0.06869194 0.07325104 0.07505496 0.07440122 0.07530699\n",
      "  0.07565985 0.0738687  0.07410414 0.0706624  0.06767847 0.06594453\n",
      "  0.06811677 0.0681924  0.07090243 0.07149788 0.0712182  0.07058241\n",
      "  0.06823047 0.06534685 0.0634883  0.06341899 0.06381316 0.06900254\n",
      "  0.07093259 0.07523307 0.07204889 0.07108189 0.06583824 0.06587252\n",
      "  0.06436434 0.06345385 0.06363075 0.06628812 0.0670689  0.06698726\n",
      "  0.06594812 0.06462309 0.06585233 0.06482451 0.06515296 0.06106477\n",
      "  0.05854152 0.06037882 0.06080815 0.06332499 0.06692267 0.06741183\n",
      "  0.06584896 0.06577105 0.06472046 0.0599282  0.05888873 0.05858812\n",
      "  0.0618595  0.06440847 0.06648094 0.06608991 0.06769047 0.06766798\n",
      "  0.0621167  0.06218402 0.06375884 0.06646249 0.06587797 0.06346247\n",
      "  0.06372065 0.06545657 0.06338468 0.06455825 0.06617092 0.06213725\n",
      "  0.06152326 0.06340786 0.06444958 0.06676269 0.06833428 0.06897144\n",
      "  0.06875543 0.06651055 0.06486086 0.06160817 0.06055447 0.06203242\n",
      "  0.06525653 0.06747849 0.06714904 0.06463843 0.06282768 0.0615992\n",
      "  0.05898569 0.05684142 0.0598276  0.06218619 0.062025   0.062455\n",
      "  0.06220027 0.06474773 0.06660701 0.06498082 0.06497454 0.06095815\n",
      "  0.05269028 0.05287919 0.05502944 0.05643518 0.05578177 0.05347807\n",
      "  0.05134977 0.05242018 0.05393413 0.05545376 0.0568403  0.05717147\n",
      "  0.05668032 0.05820292 0.06027447 0.05975574 0.05783075 0.05532948\n",
      "  0.05514373 0.05387483 0.05119687 0.05330592 0.05258538 0.05102204\n",
      "  0.05268201 0.05026459 0.05556197 0.0543158  0.05551574 0.05543029\n",
      "  0.05310725 0.05292343 0.0518139  0.05096426 0.05039463 0.04961734\n",
      "  0.05017638 0.05053749 0.05089226 0.04893183 0.04816047 0.04747715\n",
      "  0.04700509 0.04551815 0.04666882 0.04690084 0.04572321 0.04529027\n",
      "  0.04381872 0.04223144 0.04216012 0.04153956 0.04204369 0.04037291\n",
      "  0.03394406 0.03497291 0.03731045 0.03635103 0.03635098 0.03503318\n",
      "  0.03396549 0.03610694 0.03710958 0.03603071 0.03340203 0.03179966\n",
      "  0.03288416 0.03025938 0.02909748 0.02824192 0.02650784 0.0252731\n",
      "  0.02644631 0.02833794 0.02833779 0.02943995 0.02893436 0.02862067\n",
      "  0.02726094 0.02743844 0.02672811 0.02537294 0.02591645 0.0284618\n",
      "  0.02994712 0.03179467 0.03263645 0.0296789  0.02538576 0.02611695\n",
      "  0.02688648 0.02803026 0.0281793  0.0293963  0.02787197 0.02759379\n",
      "  0.02710952 0.02953098 0.02916922 0.02564282 0.02794742 0.02886717]]\n"
     ]
    }
   ],
   "source": [
    "# Use sklearn library\n",
    "from sklearn import preprocessing\n",
    "\n",
    "Data = df.Place3\n",
    "\n",
    "normalized_arr = preprocessing.normalize([Data])\n",
    "print(normalized_arr)"
   ]
  },
  {
   "cell_type": "code",
   "execution_count": null,
   "metadata": {},
   "outputs": [],
   "source": []
  }
 ],
 "metadata": {
  "kernelspec": {
   "display_name": "Python 3",
   "language": "python",
   "name": "python3"
  },
  "language_info": {
   "codemirror_mode": {
    "name": "ipython",
    "version": 3
   },
   "file_extension": ".py",
   "mimetype": "text/x-python",
   "name": "python",
   "nbconvert_exporter": "python",
   "pygments_lexer": "ipython3",
   "version": "3.7.7"
  }
 },
 "nbformat": 4,
 "nbformat_minor": 4
}
