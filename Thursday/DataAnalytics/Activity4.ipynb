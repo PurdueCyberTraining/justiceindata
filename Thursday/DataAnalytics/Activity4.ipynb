{
 "cells": [
  {
   "cell_type": "markdown",
   "metadata": {},
   "source": [
    "# Linear Regression"
   ]
  },
  {
   "cell_type": "code",
   "execution_count": 1,
   "metadata": {},
   "outputs": [
    {
     "name": "stdout",
     "output_type": "stream",
     "text": [
      "File downloaded successfully.\n"
     ]
    }
   ],
   "source": [
    "# This will download file Combine_Temp.csv from Github \n",
    "import requests \n",
    "\n",
    "csv_url = \"https://raw.githubusercontent.com/stm5131/nsfcybertraining/main/Data_Analytics_3/Combine_Temp.csv\" # donwloading raw url\n",
    "\n",
    "response = requests.get(csv_url) \n",
    "\n",
    "if response.status_code == 200: \n",
    "\n",
    "    with open('Combine_Temp.csv', 'wb') as f: \n",
    "        f.write(response.content) \n",
    "        print(\"File downloaded successfully.\") \n",
    "else: \n",
    "    print('Failed to download file.') "
   ]
  },
  {
   "cell_type": "code",
   "execution_count": 2,
   "metadata": {},
   "outputs": [],
   "source": [
    "import pandas as pd\n",
    "import matplotlib.pyplot as plt\n",
    "from scipy import stats"
   ]
  },
  {
   "cell_type": "code",
   "execution_count": 3,
   "metadata": {},
   "outputs": [],
   "source": [
    "#Read file\n",
    "Combine = pd.read_csv(\"Combine_Temp.csv\")"
   ]
  },
  {
   "cell_type": "code",
   "execution_count": 4,
   "metadata": {},
   "outputs": [],
   "source": [
    "x= Combine.Place1\n",
    "y= Combine.Place2"
   ]
  },
  {
   "cell_type": "code",
   "execution_count": 5,
   "metadata": {},
   "outputs": [],
   "source": [
    "#Execute a method that returns some important key values of Linear Regression:\n",
    "slope, intercept, r, p, std_err = stats.linregress(x, y)"
   ]
  },
  {
   "cell_type": "code",
   "execution_count": 6,
   "metadata": {},
   "outputs": [
    {
     "name": "stdout",
     "output_type": "stream",
     "text": [
      "slope: 0.8707806450026643\n",
      "intercept: 5.90280177647773\n",
      "r: 0.9649558204474692\n",
      "p: 1.4021581516525898e-213\n",
      "std_err: 0.01241180629081054\n"
     ]
    }
   ],
   "source": [
    "print('slope: '+ str(slope))\n",
    "print('intercept: '+ str(intercept))\n",
    "print('r: '+ str(r))\n",
    "print('p: '+ str(p))\n",
    "print('std_err: '+ str(std_err))\n"
   ]
  },
  {
   "cell_type": "code",
   "execution_count": 7,
   "metadata": {},
   "outputs": [
    {
     "data": {
      "image/png": "[encoded data removed]",
      "text/plain": [
       "<Figure size 432x288 with 1 Axes>"
      ]
     },
     "metadata": {
      "needs_background": "light"
     },
     "output_type": "display_data"
    }
   ],
   "source": [
    "#Create a function that uses the slope and intercept values to return a new value. \n",
    "#This new value represents where on the y-axis the corresponding x value will be placed:\n",
    "def myfunc(x):\n",
    "  return slope * x + intercept\n",
    "\n",
    "#Run each value of the x array through the function. This will result in a new array with new values for the y-axis:\n",
    "mymodel = list(map(myfunc, x))\n",
    "\n",
    "#Draw the original scatter plot:\n",
    "plt.scatter(x, y)\n",
    "#Draw the line of linear regression:\n",
    "plt.plot(x, mymodel)\n",
    "#Display the plot:\n",
    "plt.show()"
   ]
  },
  {
   "cell_type": "markdown",
   "metadata": {},
   "source": [
    "# Linear Regression in Python using Statsmodels"
   ]
  },
  {
   "cell_type": "code",
   "execution_count": 8,
   "metadata": {},
   "outputs": [],
   "source": [
    "import statsmodels.api as sm"
   ]
  },
  {
   "cell_type": "code",
   "execution_count": 9,
   "metadata": {},
   "outputs": [
    {
     "name": "stdout",
     "output_type": "stream",
     "text": [
      "0      10.360620\n",
      "1      11.335141\n",
      "2      10.641355\n",
      "3      10.939014\n",
      "4      10.779754\n",
      "         ...    \n",
      "361    13.220231\n",
      "362    13.058278\n",
      "363    11.479607\n",
      "364    12.511313\n",
      "365    12.923061\n",
      "Name: Place1, Length: 366, dtype: float64\n"
     ]
    }
   ],
   "source": [
    "print(x)"
   ]
  },
  {
   "cell_type": "code",
   "execution_count": 10,
   "metadata": {},
   "outputs": [
    {
     "name": "stdout",
     "output_type": "stream",
     "text": [
      "     const     Place1\n",
      "0      1.0  10.360620\n",
      "1      1.0  11.335141\n",
      "2      1.0  10.641355\n",
      "3      1.0  10.939014\n",
      "4      1.0  10.779754\n",
      "..     ...        ...\n",
      "361    1.0  13.220231\n",
      "362    1.0  13.058278\n",
      "363    1.0  11.479607\n",
      "364    1.0  12.511313\n",
      "365    1.0  12.923061\n",
      "\n",
      "[366 rows x 2 columns]\n"
     ]
    }
   ],
   "source": [
    "# Adding a constant which will be predicted later.\n",
    "x = sm.add_constant(x)\n",
    "print(x)"
   ]
  },
  {
   "cell_type": "code",
   "execution_count": 11,
   "metadata": {},
   "outputs": [
    {
     "name": "stdout",
     "output_type": "stream",
     "text": [
      "0      12.317489\n",
      "1      12.629601\n",
      "2      11.050880\n",
      "3      10.505939\n",
      "4      10.579117\n",
      "         ...    \n",
      "361    14.653311\n",
      "362    15.054744\n",
      "363    15.605073\n",
      "364    15.489469\n",
      "365    15.630150\n",
      "Name: Place2, Length: 366, dtype: float64\n"
     ]
    }
   ],
   "source": [
    "print(y)"
   ]
  },
  {
   "cell_type": "code",
   "execution_count": 12,
   "metadata": {},
   "outputs": [
    {
     "name": "stdout",
     "output_type": "stream",
     "text": [
      "<statsmodels.regression.linear_model.RegressionResultsWrapper object at 0x7fb35d4d8090>\n"
     ]
    }
   ],
   "source": [
    "# Using Ordinary Least Squares (OLS) modelling approach \n",
    "model = sm.OLS(y, x).fit() \n",
    "print(model)"
   ]
  },
  {
   "cell_type": "code",
   "execution_count": 13,
   "metadata": {},
   "outputs": [
    {
     "name": "stdout",
     "output_type": "stream",
     "text": [
      "0      14.924630\n",
      "1      15.773223\n",
      "2      15.169087\n",
      "3      15.428284\n",
      "4      15.289603\n",
      "         ...    \n",
      "361    17.414723\n",
      "362    17.273698\n",
      "363    15.899021\n",
      "364    16.797411\n",
      "365    17.155953\n",
      "Length: 366, dtype: float64\n"
     ]
    }
   ],
   "source": [
    "predictions = model.predict(x) \n",
    "print(predictions)"
   ]
  },
  {
   "cell_type": "code",
   "execution_count": 14,
   "metadata": {},
   "outputs": [
    {
     "name": "stdout",
     "output_type": "stream",
     "text": [
      "                            OLS Regression Results                            \n",
      "==============================================================================\n",
      "Dep. Variable:                 Place2   R-squared:                       0.931\n",
      "Model:                            OLS   Adj. R-squared:                  0.931\n",
      "Method:                 Least Squares   F-statistic:                     4922.\n",
      "Date:                Wed, 24 May 2023   Prob (F-statistic):          1.40e-213\n",
      "Time:                        11:02:54   Log-Likelihood:                -745.87\n",
      "No. Observations:                 366   AIC:                             1496.\n",
      "Df Residuals:                     364   BIC:                             1504.\n",
      "Df Model:                           1                                         \n",
      "Covariance Type:            nonrobust                                         \n",
      "==============================================================================\n",
      "                 coef    std err          t      P>|t|      [0.025      0.975]\n",
      "------------------------------------------------------------------------------\n",
      "const          5.9028      0.290     20.324      0.000       5.332       6.474\n",
      "Place1         0.8708      0.012     70.157      0.000       0.846       0.895\n",
      "==============================================================================\n",
      "Omnibus:                        7.265   Durbin-Watson:                   0.469\n",
      "Prob(Omnibus):                  0.026   Jarque-Bera (JB):               11.519\n",
      "Skew:                          -0.004   Prob(JB):                      0.00315\n",
      "Kurtosis:                       3.869   Cond. No.                         69.9\n",
      "==============================================================================\n",
      "\n",
      "Warnings:\n",
      "[1] Standard Errors assume that the covariance matrix of the errors is correctly specified.\n"
     ]
    }
   ],
   "source": [
    "print_model = model.summary()\n",
    "print(print_model)"
   ]
  },
  {
   "cell_type": "markdown",
   "metadata": {},
   "source": [
    "# Interpretation\n",
    "    1. Adjusted R-squared reflects the fit of the model. R-squared values range from 0 to 1, where a higher value generally indicates a better fit, assuming certain conditions are met. Const coefficient is your Y-intercept.\n",
    "    2. Std err reflects the level of accuracy of the coefficients. The lower it is, the higher is the level of accuracy.\n",
    "    3. P >|t| is your p-value. A p-value of less than 0.05 is considered to be statistically significant.\n",
    "    4. Confidence Interval represents the range in which our coefficients are likely to fall (with a likelihood of 95%)."
   ]
  },
  {
   "cell_type": "code",
   "execution_count": null,
   "metadata": {},
   "outputs": [],
   "source": []
  }
 ],
 "metadata": {
  "kernelspec": {
   "display_name": "Python 3",
   "language": "python",
   "name": "python3"
  },
  "language_info": {
   "codemirror_mode": {
    "name": "ipython",
    "version": 3
   },
   "file_extension": ".py",
   "mimetype": "text/x-python",
   "name": "python",
   "nbconvert_exporter": "python",
   "pygments_lexer": "ipython3",
   "version": "3.7.7"
  }
 },
 "nbformat": 4,
 "nbformat_minor": 4
}
