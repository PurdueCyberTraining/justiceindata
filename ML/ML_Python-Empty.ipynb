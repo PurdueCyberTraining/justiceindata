{
 "cells": [
  {
   "cell_type": "markdown",
   "id": "ffb40ff3",
   "metadata": {},
   "source": [
    "# NSF CyberTraining Bootcamp, Friday (Intro to ML)"
   ]
  },
  {
   "cell_type": "markdown",
   "id": "a3cce369",
   "metadata": {},
   "source": [
    "## 1. import basic libraries"
   ]
  },
  {
   "cell_type": "code",
   "execution_count": null,
   "id": "5f37b96d",
   "metadata": {},
   "outputs": [],
   "source": [
    "import pandas as pd\n",
    "import numpy as np\n",
    "import matplotlib.pyplot as plt\n",
    "import seaborn as sns\n",
    "import collections\n",
    "import requests"
   ]
  },
  {
   "cell_type": "markdown",
   "id": "44249e23",
   "metadata": {},
   "source": [
    "## 1.a Downloading Data needed"
   ]
  },
  {
   "cell_type": "code",
   "execution_count": null,
   "id": "05255a20",
   "metadata": {},
   "outputs": [],
   "source": [
    "repository_url = \"https://raw.githubusercontent.com/stm5131/nsfcybertraining/main/Machine%20Learning%20-%20Friday%20Session/\" \n",
    "\n",
    "files = [\"data_all.csv\",\"data_test.csv\",\"data_train.csv\"]\n",
    "\n",
    "for filename in files:\n",
    "    csv_url = repository_url+filename\n",
    "    #print(csv_url)\n",
    "    response = requests.get(csv_url)\n",
    "    if response.status_code == 200:\n",
    "        with open(filename, 'wb') as f: \n",
    "            f.write(response.content) \n",
    "            print(filename + \" downloaded successfully.\")\n",
    "    else: \n",
    "        print('Failed to download '+filename) \n"
   ]
  },
  {
   "cell_type": "markdown",
   "id": "9245ba19",
   "metadata": {},
   "source": [
    "## 2. read data"
   ]
  },
  {
   "cell_type": "code",
   "execution_count": null,
   "id": "face11a9",
   "metadata": {},
   "outputs": [],
   "source": []
  },
  {
   "cell_type": "code",
   "execution_count": null,
   "id": "552325cf",
   "metadata": {},
   "outputs": [],
   "source": []
  },
  {
   "cell_type": "code",
   "execution_count": null,
   "id": "2426f04b",
   "metadata": {},
   "outputs": [],
   "source": []
  },
  {
   "cell_type": "markdown",
   "id": "c0c5b617",
   "metadata": {},
   "source": [
    "## 3. split data by feature and target"
   ]
  },
  {
   "cell_type": "code",
   "execution_count": null,
   "id": "6431b37b",
   "metadata": {},
   "outputs": [],
   "source": []
  },
  {
   "cell_type": "code",
   "execution_count": null,
   "id": "666a6871",
   "metadata": {},
   "outputs": [],
   "source": []
  },
  {
   "cell_type": "code",
   "execution_count": null,
   "id": "6ef4fad6",
   "metadata": {},
   "outputs": [],
   "source": []
  },
  {
   "cell_type": "code",
   "execution_count": null,
   "id": "cf9eed5c",
   "metadata": {},
   "outputs": [],
   "source": []
  },
  {
   "cell_type": "code",
   "execution_count": null,
   "id": "5602d080",
   "metadata": {},
   "outputs": [],
   "source": []
  },
  {
   "cell_type": "markdown",
   "id": "436ddc89",
   "metadata": {},
   "source": [
    "## 4. train KNN and decision tree model"
   ]
  },
  {
   "cell_type": "code",
   "execution_count": null,
   "id": "ff7e862b",
   "metadata": {},
   "outputs": [],
   "source": []
  },
  {
   "cell_type": "code",
   "execution_count": null,
   "id": "fc9f3855",
   "metadata": {},
   "outputs": [],
   "source": []
  },
  {
   "cell_type": "code",
   "execution_count": null,
   "id": "5910fe0b",
   "metadata": {},
   "outputs": [],
   "source": []
  },
  {
   "cell_type": "markdown",
   "id": "5b5070ff",
   "metadata": {},
   "source": [
    "## 5. cross validate your training"
   ]
  },
  {
   "cell_type": "code",
   "execution_count": null,
   "id": "923e9fd7",
   "metadata": {},
   "outputs": [],
   "source": []
  },
  {
   "cell_type": "code",
   "execution_count": null,
   "id": "ec1f02aa",
   "metadata": {},
   "outputs": [],
   "source": []
  },
  {
   "cell_type": "code",
   "execution_count": null,
   "id": "a15d5805",
   "metadata": {},
   "outputs": [],
   "source": []
  },
  {
   "cell_type": "markdown",
   "id": "ad6e6ed4",
   "metadata": {},
   "source": [
    "## 6. tune KNN model"
   ]
  },
  {
   "cell_type": "code",
   "execution_count": null,
   "id": "e2a08aec",
   "metadata": {},
   "outputs": [],
   "source": []
  },
  {
   "cell_type": "code",
   "execution_count": null,
   "id": "2be0721a",
   "metadata": {
    "scrolled": true
   },
   "outputs": [],
   "source": []
  },
  {
   "cell_type": "code",
   "execution_count": null,
   "id": "c5edf0e4",
   "metadata": {
    "scrolled": true
   },
   "outputs": [],
   "source": []
  },
  {
   "cell_type": "code",
   "execution_count": null,
   "id": "d5ede33e",
   "metadata": {
    "scrolled": false
   },
   "outputs": [],
   "source": []
  },
  {
   "cell_type": "code",
   "execution_count": null,
   "id": "9b69913f",
   "metadata": {},
   "outputs": [],
   "source": []
  },
  {
   "cell_type": "code",
   "execution_count": null,
   "id": "4d94170c",
   "metadata": {},
   "outputs": [],
   "source": []
  },
  {
   "cell_type": "code",
   "execution_count": null,
   "id": "6124a555",
   "metadata": {},
   "outputs": [],
   "source": []
  },
  {
   "cell_type": "code",
   "execution_count": null,
   "id": "5daf72bf",
   "metadata": {},
   "outputs": [],
   "source": []
  },
  {
   "cell_type": "markdown",
   "id": "86248a0c",
   "metadata": {},
   "source": [
    "## 7. test your model"
   ]
  },
  {
   "cell_type": "code",
   "execution_count": null,
   "id": "945dbabb",
   "metadata": {},
   "outputs": [],
   "source": []
  },
  {
   "cell_type": "code",
   "execution_count": null,
   "id": "a12bc178",
   "metadata": {},
   "outputs": [],
   "source": []
  },
  {
   "cell_type": "code",
   "execution_count": null,
   "id": "14c0a2f8",
   "metadata": {},
   "outputs": [],
   "source": []
  },
  {
   "cell_type": "code",
   "execution_count": null,
   "id": "dedcb9df",
   "metadata": {},
   "outputs": [],
   "source": []
  },
  {
   "cell_type": "markdown",
   "id": "d3eec8bd",
   "metadata": {},
   "source": [
    "## 8. report your result"
   ]
  },
  {
   "cell_type": "code",
   "execution_count": null,
   "id": "f5847ce2",
   "metadata": {},
   "outputs": [],
   "source": []
  },
  {
   "cell_type": "code",
   "execution_count": null,
   "id": "5a61c131",
   "metadata": {},
   "outputs": [],
   "source": []
  },
  {
   "cell_type": "code",
   "execution_count": null,
   "id": "1a4c8eb5",
   "metadata": {},
   "outputs": [],
   "source": []
  },
  {
   "cell_type": "code",
   "execution_count": null,
   "id": "ca3c2499",
   "metadata": {},
   "outputs": [],
   "source": []
  },
  {
   "cell_type": "code",
   "execution_count": null,
   "id": "f630d8af",
   "metadata": {},
   "outputs": [],
   "source": []
  },
  {
   "cell_type": "code",
   "execution_count": null,
   "id": "0c75d9c1",
   "metadata": {},
   "outputs": [],
   "source": []
  },
  {
   "cell_type": "code",
   "execution_count": null,
   "id": "2afa5ffe",
   "metadata": {},
   "outputs": [],
   "source": []
  }
 ],
 "metadata": {
    "kernelspec": {
        "display_name": "ct-justiceindata",
        "language": "python",
        "name": "ct-justiceindata"
      },
  "language_info": {
   "codemirror_mode": {
    "name": "ipython",
    "version": 3
   },
   "file_extension": ".py",
   "mimetype": "text/x-python",
   "name": "python",
   "nbconvert_exporter": "python",
   "pygments_lexer": "ipython3",
   "version": "3.11.3"
  }
 },
 "nbformat": 4,
 "nbformat_minor": 5
}
