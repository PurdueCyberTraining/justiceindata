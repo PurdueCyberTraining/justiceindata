{
 "cells": [
  {
   "cell_type": "markdown",
   "metadata": {},
   "source": [
    "# Data Access - Energy\n",
    "### This Example showcases a method to add a large data set from a github repository"
   ]
  },
  {
   "cell_type": "code",
   "execution_count": 1,
   "metadata": {},
   "outputs": [
    {
     "name": "stdout",
     "output_type": "stream",
     "text": [
      "File downloaded successfully.\n"
     ]
    }
   ],
   "source": [
    "import requests \n",
    "\n",
    "csv_url = \"https://raw.githubusercontent.com/buds-lab/the-building-data-genome-project/master/data/raw/temp_open_utc.csv\" \n",
    "\n",
    "response = requests.get(csv_url) \n",
    "\n",
    "if response.status_code == 200: \n",
    "\n",
    "    with open('filename.csv', 'wb') as f: \n",
    "        f.write(response.content) \n",
    "        print(\"File downloaded successfully.\") \n",
    "else: \n",
    "    print('Failed to download file.') \n"
   ]
  },
  {
   "cell_type": "markdown",
   "metadata": {},
   "source": [
    "### Data File hyperlink is needed as the csv_url.\n",
    "### Github files will have a //raw. superceding the link for the actual file location. Other sites may be different."
   ]
  },
  {
   "cell_type": "code",
   "execution_count": 2,
   "metadata": {},
   "outputs": [],
   "source": [
    "import pandas as pd"
   ]
  },
  {
   "cell_type": "code",
   "execution_count": 3,
   "metadata": {},
   "outputs": [],
   "source": [
    "df = pd.read_csv('filename.csv')"
   ]
  },
  {
   "cell_type": "code",
   "execution_count": 4,
   "metadata": {},
   "outputs": [
    {
     "data": {
      "text/html": [
       "<div>\n",
       "<style scoped>\n",
       "    .dataframe tbody tr th:only-of-type {\n",
       "        vertical-align: middle;\n",
       "    }\n",
       "\n",
       "    .dataframe tbody tr th {\n",
       "        vertical-align: top;\n",
       "    }\n",
       "\n",
       "    .dataframe thead th {\n",
       "        text-align: right;\n",
       "    }\n",
       "</style>\n",
       "<table border=\"1\" class=\"dataframe\">\n",
       "  <thead>\n",
       "    <tr style=\"text-align: right;\">\n",
       "      <th></th>\n",
       "      <th>timestamp</th>\n",
       "      <th>PrimClass_Jolie</th>\n",
       "      <th>PrimClass_Jaylin</th>\n",
       "      <th>Office_Jesus</th>\n",
       "      <th>PrimClass_Jayla</th>\n",
       "      <th>PrimClass_Janiya</th>\n",
       "      <th>PrimClass_Janice</th>\n",
       "      <th>Office_Jett</th>\n",
       "      <th>Office_Jerry</th>\n",
       "      <th>PrimClass_Jaden</th>\n",
       "      <th>...</th>\n",
       "      <th>UnivLab_Aine</th>\n",
       "      <th>UnivLab_Anita</th>\n",
       "      <th>UnivLab_Alisa</th>\n",
       "      <th>UnivDorm_Adriana</th>\n",
       "      <th>UnivLab_Aoife</th>\n",
       "      <th>PrimClass_Uma</th>\n",
       "      <th>PrimClass_Umar</th>\n",
       "      <th>UnivDorm_Una</th>\n",
       "      <th>PrimClass_Uriah</th>\n",
       "      <th>PrimClass_Ulysses</th>\n",
       "    </tr>\n",
       "  </thead>\n",
       "  <tbody>\n",
       "    <tr>\n",
       "      <th>0</th>\n",
       "      <td>2010-01-01 08:00:00+00:00</td>\n",
       "      <td>NaN</td>\n",
       "      <td>NaN</td>\n",
       "      <td>NaN</td>\n",
       "      <td>NaN</td>\n",
       "      <td>NaN</td>\n",
       "      <td>NaN</td>\n",
       "      <td>NaN</td>\n",
       "      <td>NaN</td>\n",
       "      <td>NaN</td>\n",
       "      <td>...</td>\n",
       "      <td>NaN</td>\n",
       "      <td>NaN</td>\n",
       "      <td>NaN</td>\n",
       "      <td>NaN</td>\n",
       "      <td>NaN</td>\n",
       "      <td>NaN</td>\n",
       "      <td>NaN</td>\n",
       "      <td>NaN</td>\n",
       "      <td>NaN</td>\n",
       "      <td>NaN</td>\n",
       "    </tr>\n",
       "    <tr>\n",
       "      <th>1</th>\n",
       "      <td>2010-01-01 09:00:00+00:00</td>\n",
       "      <td>NaN</td>\n",
       "      <td>NaN</td>\n",
       "      <td>NaN</td>\n",
       "      <td>NaN</td>\n",
       "      <td>NaN</td>\n",
       "      <td>NaN</td>\n",
       "      <td>NaN</td>\n",
       "      <td>NaN</td>\n",
       "      <td>NaN</td>\n",
       "      <td>...</td>\n",
       "      <td>NaN</td>\n",
       "      <td>NaN</td>\n",
       "      <td>NaN</td>\n",
       "      <td>NaN</td>\n",
       "      <td>NaN</td>\n",
       "      <td>NaN</td>\n",
       "      <td>NaN</td>\n",
       "      <td>NaN</td>\n",
       "      <td>NaN</td>\n",
       "      <td>NaN</td>\n",
       "    </tr>\n",
       "    <tr>\n",
       "      <th>2</th>\n",
       "      <td>2010-01-01 10:00:00+00:00</td>\n",
       "      <td>NaN</td>\n",
       "      <td>NaN</td>\n",
       "      <td>NaN</td>\n",
       "      <td>NaN</td>\n",
       "      <td>NaN</td>\n",
       "      <td>NaN</td>\n",
       "      <td>NaN</td>\n",
       "      <td>NaN</td>\n",
       "      <td>NaN</td>\n",
       "      <td>...</td>\n",
       "      <td>NaN</td>\n",
       "      <td>NaN</td>\n",
       "      <td>NaN</td>\n",
       "      <td>NaN</td>\n",
       "      <td>NaN</td>\n",
       "      <td>NaN</td>\n",
       "      <td>NaN</td>\n",
       "      <td>NaN</td>\n",
       "      <td>NaN</td>\n",
       "      <td>NaN</td>\n",
       "    </tr>\n",
       "    <tr>\n",
       "      <th>3</th>\n",
       "      <td>2010-01-01 11:00:00+00:00</td>\n",
       "      <td>NaN</td>\n",
       "      <td>NaN</td>\n",
       "      <td>NaN</td>\n",
       "      <td>NaN</td>\n",
       "      <td>NaN</td>\n",
       "      <td>NaN</td>\n",
       "      <td>NaN</td>\n",
       "      <td>NaN</td>\n",
       "      <td>NaN</td>\n",
       "      <td>...</td>\n",
       "      <td>NaN</td>\n",
       "      <td>NaN</td>\n",
       "      <td>NaN</td>\n",
       "      <td>NaN</td>\n",
       "      <td>NaN</td>\n",
       "      <td>NaN</td>\n",
       "      <td>NaN</td>\n",
       "      <td>NaN</td>\n",
       "      <td>NaN</td>\n",
       "      <td>NaN</td>\n",
       "    </tr>\n",
       "    <tr>\n",
       "      <th>4</th>\n",
       "      <td>2010-01-01 12:00:00+00:00</td>\n",
       "      <td>NaN</td>\n",
       "      <td>NaN</td>\n",
       "      <td>NaN</td>\n",
       "      <td>NaN</td>\n",
       "      <td>NaN</td>\n",
       "      <td>NaN</td>\n",
       "      <td>NaN</td>\n",
       "      <td>NaN</td>\n",
       "      <td>NaN</td>\n",
       "      <td>...</td>\n",
       "      <td>NaN</td>\n",
       "      <td>NaN</td>\n",
       "      <td>NaN</td>\n",
       "      <td>NaN</td>\n",
       "      <td>NaN</td>\n",
       "      <td>NaN</td>\n",
       "      <td>NaN</td>\n",
       "      <td>NaN</td>\n",
       "      <td>NaN</td>\n",
       "      <td>NaN</td>\n",
       "    </tr>\n",
       "  </tbody>\n",
       "</table>\n",
       "<p>5 rows × 508 columns</p>\n",
       "</div>"
      ],
      "text/plain": [
       "                   timestamp  PrimClass_Jolie  PrimClass_Jaylin  Office_Jesus  \\\n",
       "0  2010-01-01 08:00:00+00:00              NaN               NaN           NaN   \n",
       "1  2010-01-01 09:00:00+00:00              NaN               NaN           NaN   \n",
       "2  2010-01-01 10:00:00+00:00              NaN               NaN           NaN   \n",
       "3  2010-01-01 11:00:00+00:00              NaN               NaN           NaN   \n",
       "4  2010-01-01 12:00:00+00:00              NaN               NaN           NaN   \n",
       "\n",
       "   PrimClass_Jayla  PrimClass_Janiya  PrimClass_Janice  Office_Jett  \\\n",
       "0              NaN               NaN               NaN          NaN   \n",
       "1              NaN               NaN               NaN          NaN   \n",
       "2              NaN               NaN               NaN          NaN   \n",
       "3              NaN               NaN               NaN          NaN   \n",
       "4              NaN               NaN               NaN          NaN   \n",
       "\n",
       "   Office_Jerry  PrimClass_Jaden  ...  UnivLab_Aine  UnivLab_Anita  \\\n",
       "0           NaN              NaN  ...           NaN            NaN   \n",
       "1           NaN              NaN  ...           NaN            NaN   \n",
       "2           NaN              NaN  ...           NaN            NaN   \n",
       "3           NaN              NaN  ...           NaN            NaN   \n",
       "4           NaN              NaN  ...           NaN            NaN   \n",
       "\n",
       "   UnivLab_Alisa  UnivDorm_Adriana  UnivLab_Aoife  PrimClass_Uma  \\\n",
       "0            NaN               NaN            NaN            NaN   \n",
       "1            NaN               NaN            NaN            NaN   \n",
       "2            NaN               NaN            NaN            NaN   \n",
       "3            NaN               NaN            NaN            NaN   \n",
       "4            NaN               NaN            NaN            NaN   \n",
       "\n",
       "   PrimClass_Umar  UnivDorm_Una  PrimClass_Uriah  PrimClass_Ulysses  \n",
       "0             NaN           NaN              NaN                NaN  \n",
       "1             NaN           NaN              NaN                NaN  \n",
       "2             NaN           NaN              NaN                NaN  \n",
       "3             NaN           NaN              NaN                NaN  \n",
       "4             NaN           NaN              NaN                NaN  \n",
       "\n",
       "[5 rows x 508 columns]"
      ]
     },
     "execution_count": 4,
     "metadata": {},
     "output_type": "execute_result"
    }
   ],
   "source": [
    "df.head()"
   ]
  },
  {
   "cell_type": "code",
   "execution_count": 5,
   "metadata": {},
   "outputs": [
    {
     "data": {
      "text/plain": [
       "<matplotlib.axes._subplots.AxesSubplot at 0x7f1e100ac050>"
      ]
     },
     "execution_count": 5,
     "metadata": {},
     "output_type": "execute_result"
    },
    {
     "data": {
      "image/png": "[encoded data removed]",
      "text/plain": [
       "<Figure size 432x288 with 1 Axes>"
      ]
     },
     "metadata": {
      "needs_background": "light"
     },
     "output_type": "display_data"
    }
   ],
   "source": [
    "df.PrimClass_Jolie.plot()"
   ]
  },
  {
   "cell_type": "code",
   "execution_count": null,
   "metadata": {},
   "outputs": [],
   "source": []
  }
 ],
 "metadata": {
    "kernelspec": {
        "display_name": "ct-justiceindata",
        "language": "python",
        "name": "ct-justiceindata"
      },
  "language_info": {
   "codemirror_mode": {
    "name": "ipython",
    "version": 3
   },
   "file_extension": ".py",
   "mimetype": "text/x-python",
   "name": "python",
   "nbconvert_exporter": "python",
   "pygments_lexer": "ipython3",
   "version": "3.7.7"
  }
 },
 "nbformat": 4,
 "nbformat_minor": 5
}
