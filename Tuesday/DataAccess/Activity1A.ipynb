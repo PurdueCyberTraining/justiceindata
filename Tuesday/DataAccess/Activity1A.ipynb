{
 "cells": [
  {
   "cell_type": "markdown",
   "metadata": {},
   "source": [
    "# Downloading data(Precipitation) from NOAA using API"
   ]
  },
  {
   "cell_type": "code",
   "execution_count": null,
   "metadata": {},
   "outputs": [],
   "source": [
    "# Import libraries\n",
    "import requests\n",
    "# for data manipulation and analysis\n",
    "import pandas as pd\n",
    "#convert the response as a strcuctured json\n",
    "import json\n",
    "#mathematical operations on lists\n",
    "#import numpy as np\n",
    "#parse the datetimes we get from NOAA\n",
    "from datetime import datetime"
   ]
  },
  {
   "cell_type": "code",
   "execution_count": null,
   "metadata": {},
   "outputs": [],
   "source": [
    "#add the access token you got from NOAA\n",
    "Token = 'QEBZgOivFWhcZcxssuQKncnLcilnGFlQ'"
   ]
  },
  {
   "cell_type": "code",
   "execution_count": null,
   "metadata": {},
   "outputs": [],
   "source": [
    "##You can enter any station ID \n",
    "station_id = 'GHCND:USW00003927' #Dallas Fort Worth Airport station"
   ]
  },
  {
   "cell_type": "code",
   "execution_count": null,
   "metadata": {},
   "outputs": [],
   "source": [
    "# Creating empty lists\n",
    "dates_prcp = []\n",
    "prcps = []"
   ]
  },
  {
   "cell_type": "code",
   "execution_count": null,
   "metadata": {},
   "outputs": [],
   "source": [
    "type(dates_prcp)"
   ]
  },
  {
   "cell_type": "code",
   "execution_count": null,
   "metadata": {},
   "outputs": [],
   "source": [
    "# enter year\n",
    "year = str(2014)"
   ]
  },
  {
   "cell_type": "code",
   "execution_count": null,
   "metadata": {},
   "outputs": [],
   "source": [
    "# enter data type\n",
    "datatype= 'PRCP' # precipitation "
   ]
  },
  {
   "cell_type": "code",
   "execution_count": null,
   "metadata": {},
   "outputs": [],
   "source": [
    "#make the api call\n",
    "r = requests.get('https://www.ncdc.noaa.gov/cdo-web/api/v2/data?datasetid=GHCND&datatypeid='+datatype+'&limit=1000&stationid='+station_id+'&startdate='+year+'-01-01&enddate='+year+'-12-31', headers={'token':Token})"
   ]
  },
  {
   "cell_type": "code",
   "execution_count": null,
   "metadata": {},
   "outputs": [],
   "source": [
    "#load the api response as a json\n",
    "d = json.loads(r.text)\n",
    "d"
   ]
  },
  {
   "cell_type": "code",
   "execution_count": null,
   "metadata": {},
   "outputs": [],
   "source": [
    "#get all items in the response which are precipitation readings\n",
    "prcp = [item for item in d['results'] if item['datatype']=='PRCP'] # here we can replace datatype with other available data e.g TAVG to get average temperature\n",
    "prcp"
   ]
  },
  {
   "cell_type": "code",
   "execution_count": null,
   "metadata": {},
   "outputs": [],
   "source": [
    "#get the date field from all precipitation readings\n",
    "dates_prcp = [item['date'] for item in prcp] \n",
    "dates_prcp"
   ]
  },
  {
   "cell_type": "code",
   "execution_count": null,
   "metadata": {},
   "outputs": [],
   "source": [
    "#get the actual precipitation from all precipitation readings\n",
    "prcps = [item['value'] for item in prcp]\n",
    "prcps"
   ]
  },
  {
   "cell_type": "code",
   "execution_count": null,
   "metadata": {},
   "outputs": [],
   "source": [
    "# Create an empty dataframe\n",
    "df_prcp = pd.DataFrame()\n",
    "df_prcp"
   ]
  },
  {
   "cell_type": "code",
   "execution_count": null,
   "metadata": {},
   "outputs": [],
   "source": [
    "#populate date and precipitation fields in the empty dataframe(cast string date to datetime and convert precipitation to mm)\n",
    "df_prcp['date'] = [datetime.strptime(d, \"%Y-%m-%dT%H:%M:%S\") for d in dates_prcp]\n",
    "df_prcp['Precipitation(mm)'] = [(float(v)/254)*25.4 for v in prcps] #prcp is convereted to mm"
   ]
  },
  {
   "cell_type": "code",
   "execution_count": null,
   "metadata": {},
   "outputs": [],
   "source": [
    "df_prcp"
   ]
  },
  {
   "cell_type": "code",
   "execution_count": null,
   "metadata": {},
   "outputs": [],
   "source": [
    "#Saving dataframe as a csv file\n",
    "df_prcp.to_csv('PRECIPITATION.csv', index=False)"
   ]
  },
  {
   "cell_type": "markdown",
   "metadata": {},
   "source": [
    "# Downloading data for multiple years"
   ]
  },
  {
   "cell_type": "code",
   "execution_count": null,
   "metadata": {},
   "outputs": [],
   "source": [
    "# Creating empty lists\n",
    "dates_prcp = []\n",
    "prcps = []\n",
    "Token = 'QEBZgOivFWhcZcxssuQKncnLcilnGFlQ'\n",
    "datatype= 'PRCP'\n",
    "station_id = 'GHCND:USW00003927'\n",
    "# enter year range\n",
    "for year in range(2018, 2020):\n",
    "    year = str(year)\n",
    "    \n",
    "    \n",
    "    #make the api call\n",
    "    r = requests.get('https://www.ncdc.noaa.gov/cdo-web/api/v2/data?datasetid=GHCND&datatypeid='+datatype+'&limit=1000&stationid='+station_id+'&startdate='+year+'-01-01&enddate='+year+'-12-31', headers={'token':Token})\n",
    "    #load the api response as a json\n",
    "    d = json.loads(r.text)\n",
    "    #get all items in the response which are precipitation readings\n",
    "    prcp = [item for item in d['results'] if item['datatype']=='PRCP'] # here we can replace datatype with other available data e.g TAVG to get average temperature\n",
    "    #get the date field from all precipitation readings\n",
    "    dates_prcp += [item['date'] for item in prcp]\n",
    "    #get the actual precipitation from all precipitation readings\n",
    "    prcps += [item['value'] for item in prcp]"
   ]
  },
  {
   "cell_type": "code",
   "execution_count": null,
   "metadata": {},
   "outputs": [],
   "source": [
    "# Create an empty dataframe\n",
    "df_prcp = pd.DataFrame()\n",
    "df_prcp"
   ]
  },
  {
   "cell_type": "code",
   "execution_count": null,
   "metadata": {},
   "outputs": [],
   "source": [
    "#populate date and precipitation fields in the empty dataframe(cast string date to datetime and convert precipitation to mm)\n",
    "df_prcp['date'] = [datetime.strptime(d, \"%Y-%m-%dT%H:%M:%S\") for d in dates_prcp]\n",
    "df_prcp['Precipitation(mm)'] = [(float(v)/254)*25.4 for v in prcps] #prcp is convereted to mm"
   ]
  },
  {
   "cell_type": "code",
   "execution_count": null,
   "metadata": {},
   "outputs": [],
   "source": [
    "df_prcp"
   ]
  },
  {
   "cell_type": "markdown",
   "metadata": {},
   "source": [
    "# Different station"
   ]
  },
  {
   "cell_type": "code",
   "execution_count": null,
   "metadata": {},
   "outputs": [],
   "source": [
    "station_id = 'GHCND:US1TXTN0030' # station in Fort Worth near Dallas"
   ]
  },
  {
   "cell_type": "code",
   "execution_count": null,
   "metadata": {},
   "outputs": [],
   "source": [
    "# Creating empty lists\n",
    "dates_prcp = []\n",
    "prcps = []"
   ]
  },
  {
   "cell_type": "code",
   "execution_count": null,
   "metadata": {},
   "outputs": [],
   "source": [
    "year = str(2014)"
   ]
  },
  {
   "cell_type": "code",
   "execution_count": null,
   "metadata": {},
   "outputs": [],
   "source": [
    "datatype= 'PRCP'"
   ]
  },
  {
   "cell_type": "code",
   "execution_count": null,
   "metadata": {},
   "outputs": [],
   "source": [
    "#make the api call\n",
    "r = requests.get('https://www.ncdc.noaa.gov/cdo-web/api/v2/data?datasetid=GHCND&datatypeid='+datatype+'&limit=1000&stationid='+station_id+'&startdate='+year+'-01-01&enddate='+year+'-12-31', headers={'token':Token})"
   ]
  },
  {
   "cell_type": "code",
   "execution_count": null,
   "metadata": {},
   "outputs": [],
   "source": [
    "#load the api response as a json\n",
    "d = json.loads(r.text)\n",
    "d"
   ]
  },
  {
   "cell_type": "code",
   "execution_count": null,
   "metadata": {},
   "outputs": [],
   "source": [
    "#get all items in the response which are precipitation readings\n",
    "prcp = [item for item in d['results'] if item['datatype']=='PRCP'] # here we can replace datatype with other available data e.g TAVG to get average temperature\n",
    "prcp"
   ]
  },
  {
   "cell_type": "code",
   "execution_count": null,
   "metadata": {},
   "outputs": [],
   "source": [
    "#get the date field from all precipitation readings\n",
    "dates_prcp += [item['date'] for item in prcp]\n",
    "dates_prcp"
   ]
  },
  {
   "cell_type": "code",
   "execution_count": null,
   "metadata": {},
   "outputs": [],
   "source": [
    "#get the actual precipitation from all precipitation readings\n",
    "prcps += [item['value'] for item in prcp]\n",
    "prcps"
   ]
  },
  {
   "cell_type": "code",
   "execution_count": null,
   "metadata": {},
   "outputs": [],
   "source": [
    "# Create an empty dataframe\n",
    "df_prcp = pd.DataFrame()\n",
    "df_prcp"
   ]
  },
  {
   "cell_type": "code",
   "execution_count": null,
   "metadata": {},
   "outputs": [],
   "source": [
    "#populate date and precipitation fields in the empty dataframe(cast string date to datetime)\n",
    "df_prcp['date'] = [datetime.strptime(d, \"%Y-%m-%dT%H:%M:%S\") for d in dates_prcp]\n",
    "df_prcp['Precipitation(mm)'] = [(float(v)/254)*25.4 for v in prcps] "
   ]
  },
  {
   "cell_type": "code",
   "execution_count": null,
   "metadata": {},
   "outputs": [],
   "source": [
    "df_prcp"
   ]
  },
  {
   "cell_type": "code",
   "execution_count": null,
   "metadata": {},
   "outputs": [],
   "source": [
    "#Saving dataframe as a csv file\n",
    "df_prcp.to_csv('PRECIPITATION_FW.csv', index=False)"
   ]
  }
 ],
 "metadata": {
    "kernelspec": {
        "display_name": "ct-justiceindata",
        "language": "python",
        "name": "ct-justiceindata"
      },
  "language_info": {
   "codemirror_mode": {
    "name": "ipython",
    "version": 3
   },
   "file_extension": ".py",
   "mimetype": "text/x-python",
   "name": "python",
   "nbconvert_exporter": "python",
   "pygments_lexer": "ipython3",
   "version": "3.7.7"
  }
 },
 "nbformat": 4,
 "nbformat_minor": 4
}
