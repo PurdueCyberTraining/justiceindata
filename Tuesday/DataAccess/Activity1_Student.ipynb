{
 "cells": [
  {
   "cell_type": "markdown",
   "metadata": {},
   "source": [
    "# Activity\n",
    "Choose one variable among : Mean temperature 'TAVG' , Precipitation 'PRCP' and Direction of fastest 5-second wind (degrees) 'WDF5' and use any of the following stations:\n",
    "1. Station_id = GHCND:USW00023174 , LOS ANGELES INTERNATIONAL AIRPORT, CA US\n",
    "2. Station_id: GHCND:USW00013874 , ATLANTA HARTSFIELD JACKSON INTERNATIONAL AIRPORT, GA US\n",
    "3. Station_id : GHCND:USW00013904 , AUSTIN BERGSTROM INTERNATIONAL AIRPORT, TX US\n",
    "\n",
    "    Note: Some stations may not have all the parameters e.g. TMIN, TMAX etc"
   ]
  },
  {
   "cell_type": "code",
   "execution_count": null,
   "metadata": {},
   "outputs": [],
   "source": [
    "# Import libraries\n",
    "import requests\n",
    "import pandas as pd\n",
    "#convert the response as a strcuctured json\n",
    "import json\n",
    "#mathematical operations on lists\n",
    "import numpy as np\n",
    "#parse the datetimes we get from NOAA\n",
    "from datetime import datetime"
   ]
  },
  {
   "cell_type": "code",
   "execution_count": null,
   "metadata": {},
   "outputs": [],
   "source": [
    "#add the access token you got from NOAA\n",
    "Token = 'QEBZgOivFWhcZcxssuQKncnLcilnGFlQ'"
   ]
  },
  {
   "cell_type": "code",
   "execution_count": null,
   "metadata": {},
   "outputs": [],
   "source": [
    "##You can enter any station ID \n",
    "station_id = 'GHCND:USW00023174' "
   ]
  },
  {
   "cell_type": "code",
   "execution_count": null,
   "metadata": {},
   "outputs": [],
   "source": [
    "# Creating empty lists\n",
    "dates_temp = []\n",
    "temp = []"
   ]
  },
  {
   "cell_type": "code",
   "execution_count": null,
   "metadata": {},
   "outputs": [],
   "source": [
    "# enter year\n",
    "year = str(2014)"
   ]
  },
  {
   "cell_type": "code",
   "execution_count": null,
   "metadata": {},
   "outputs": [],
   "source": [
    "# enter data type\n",
    "datatype= 'WDF5'"
   ]
  },
  {
   "cell_type": "code",
   "execution_count": null,
   "metadata": {},
   "outputs": [],
   "source": [
    "#make the api call\n",
    "r = requests.get('https://www.ncdc.noaa.gov/cdo-web/api/v2/data?datasetid=GHCND&datatypeid='+datatype+'&limit=1000&stationid='+station_id+'&startdate='+year+'-01-01&enddate='+year+'-12-31', headers={'token':Token})"
   ]
  },
  {
   "cell_type": "code",
   "execution_count": null,
   "metadata": {},
   "outputs": [],
   "source": [
    "#load the api response as a json\n",
    "d = json.loads(r.text)\n",
    "d"
   ]
  },
  {
   "cell_type": "code",
   "execution_count": null,
   "metadata": {},
   "outputs": [],
   "source": [
    "#get all items in the response which are temperature readings\n",
    "temps = [item for item in d['results'] if item['datatype']=='WDF5'] # here we can replace datatype with other available data e.g TAVG to get average temperature\n",
    "temps"
   ]
  },
  {
   "cell_type": "code",
   "execution_count": null,
   "metadata": {},
   "outputs": [],
   "source": [
    "#get the date field from all temperature readings\n",
    "dates_temp += [item['date'] for item in temps]\n",
    "dates_temp"
   ]
  },
  {
   "cell_type": "code",
   "execution_count": null,
   "metadata": {},
   "outputs": [],
   "source": [
    "#get the temp value and store in the empty list\n",
    "temp += [item['value'] for item in temps]\n",
    "temp # these values are in tenths of celsius"
   ]
  },
  {
   "cell_type": "code",
   "execution_count": null,
   "metadata": {},
   "outputs": [],
   "source": [
    "# Create an empty dataframe\n",
    "df_temp = pd.DataFrame()\n",
    "df_temp"
   ]
  },
  {
   "cell_type": "code",
   "execution_count": null,
   "metadata": {},
   "outputs": [],
   "source": [
    "#populate date and temperature fields in the empty dataframe(cast string date to datetime and convert temperature to farenheit from tenths of celsius\n",
    "df_temp['date'] = [datetime.strptime(d, \"%Y-%m-%dT%H:%M:%S\") for d in dates_temp]\n",
    "df_temp['Wind'] = [float(v) for v in temp] # here for each variable we will see if conversion is required or not\n",
    "df_temp"
   ]
  },
  {
   "cell_type": "code",
   "execution_count": null,
   "metadata": {},
   "outputs": [],
   "source": [
    "df_temp"
   ]
  },
  {
   "cell_type": "code",
   "execution_count": null,
   "metadata": {},
   "outputs": [],
   "source": []
  }
 ],
 "metadata": {
  "kernelspec": {
   "display_name": "Python 3",
   "language": "python",
   "name": "python3"
  },
  "language_info": {
   "codemirror_mode": {
    "name": "ipython",
    "version": 3
   },
   "file_extension": ".py",
   "mimetype": "text/x-python",
   "name": "python",
   "nbconvert_exporter": "python",
   "pygments_lexer": "ipython3",
   "version": "3.7.7"
  }
 },
 "nbformat": 4,
 "nbformat_minor": 4
}
