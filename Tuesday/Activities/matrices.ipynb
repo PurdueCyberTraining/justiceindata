{
 "cells": [
  {
   "cell_type": "markdown",
   "id": "d2ee6847",
   "metadata": {},
   "source": [
    "# Variables - Matrices\n",
    "\n",
    "### We will create matrices of all types in this script"
   ]
  },
  {
   "cell_type": "markdown",
   "id": "71d250f4",
   "metadata": {},
   "source": [
    "#### Variables that are grouped together have various names depending on if they are ordered and mutable (changeable)\n",
    "\n",
    "# Let's try Tuples\n",
    "\n",
    "Tuples are the simplest of grouped variables, they can only be assigned as a group, the order is important.\n",
    "Individual numbers from within cannot be changed without re-assigning the entire group. (Immutable)\n",
    "\n",
    "\n",
    "These are created like multiple variables on a line except they are grouped together with parenthesis.\n",
    "\n",
    "a_tuple = (1,2,3,4)\n",
    "\n",
    "Try it below"
   ]
  },
  {
   "cell_type": "code",
   "execution_count": null,
   "id": "8b43318b",
   "metadata": {},
   "outputs": [],
   "source": []
  },
  {
   "cell_type": "markdown",
   "id": "373070aa",
   "metadata": {},
   "source": [
    "#### Now call back a variable within that tuple by calling its index.\n",
    "\n",
    "An index is given by callin g the grouped object (a tuple in this case) followed by square brackets with the index inside\n",
    "\n",
    "Like a_tuple[0] would give 1\n",
    "\n",
    "Try it below with a different index\n",
    "\n",
    "Remember that The first element is index zero"
   ]
  },
  {
   "cell_type": "code",
   "execution_count": null,
   "id": "58774eb3",
   "metadata": {},
   "outputs": [],
   "source": []
  },
  {
   "cell_type": "markdown",
   "id": "2c509970",
   "metadata": {},
   "source": [
    "#### Immutability\n",
    "\n",
    "Try assigning just an element of the tuple\n",
    "\n",
    "a_tuple[0] = 0"
   ]
  },
  {
   "cell_type": "code",
   "execution_count": null,
   "id": "fd312e4f",
   "metadata": {},
   "outputs": [],
   "source": []
  },
  {
   "cell_type": "markdown",
   "id": "3040d211",
   "metadata": {},
   "source": [
    "#### This is not allowed because it is immutable\n",
    "\n",
    "Tuples are more optimized for speed than lists and as such can only be re-modified by re-assigning the entire group\n",
    "\n",
    "Good for values that will not change often (or at all)"
   ]
  },
  {
   "cell_type": "code",
   "execution_count": null,
   "id": "f74384f8",
   "metadata": {},
   "outputs": [],
   "source": []
  },
  {
   "cell_type": "markdown",
   "id": "31b2e427",
   "metadata": {},
   "source": [
    "# Now let's try Lists\n",
    "\n",
    "Lists are the mainstay of grouped variables, they can be modified and are ordered.\n",
    "Individual numbers from within can be changed and the list size can change.\n",
    "\n",
    "\n",
    "These are created like multiple variables on a line except they are grouped together with hard brackets.\n",
    "\n",
    "a_list = [1,2,3,4]\n",
    "\n",
    "Try it below"
   ]
  },
  {
   "cell_type": "code",
   "execution_count": null,
   "id": "29914074",
   "metadata": {},
   "outputs": [],
   "source": []
  },
  {
   "cell_type": "markdown",
   "id": "dd17eda6",
   "metadata": {},
   "source": [
    "#### Calling back the individual numbers within a list is the same as a tuple\n",
    "\n",
    "a_list[0]\n",
    "\n",
    "Try it again below."
   ]
  },
  {
   "cell_type": "code",
   "execution_count": null,
   "id": "6061d923",
   "metadata": {},
   "outputs": [],
   "source": []
  },
  {
   "cell_type": "markdown",
   "id": "48001169",
   "metadata": {},
   "source": [
    "#### Mutability\n",
    "\n",
    "Try assigning just an element of the tuple\n",
    "\n",
    "a_list[0] = 0"
   ]
  },
  {
   "cell_type": "code",
   "execution_count": null,
   "id": "6a59f31c",
   "metadata": {},
   "outputs": [],
   "source": []
  },
  {
   "cell_type": "markdown",
   "id": "8ff8ac1e",
   "metadata": {},
   "source": [
    "#### Notice there was no error this time?\n",
    "\n",
    "Lists are still quite fast but not as fast as tuples.\n",
    "\n",
    "However, they are highly adaptable and can change to meet your needs.\n",
    "\n",
    "You will typically be using lists for most data sets."
   ]
  },
  {
   "cell_type": "code",
   "execution_count": null,
   "id": "9e0e9380",
   "metadata": {},
   "outputs": [],
   "source": []
  },
  {
   "cell_type": "markdown",
   "id": "82413a95",
   "metadata": {},
   "source": [
    "# Sets\n",
    "\n",
    "Sets are important for filtering among other things. They are unordered and can only contain 1 of each value within themselves.\n",
    "\n",
    "Think like a bag of marbles where only 1 color marble can exist inside the bag.\n",
    "\n",
    "\n",
    "These are created with a special function 'set()'\n",
    "\n",
    "a_set = set(1,2,3,4)\n",
    "\n",
    "Try it below"
   ]
  },
  {
   "cell_type": "code",
   "execution_count": null,
   "id": "fc5a6b43",
   "metadata": {},
   "outputs": [],
   "source": []
  },
  {
   "cell_type": "markdown",
   "id": "67cf9def",
   "metadata": {},
   "source": [
    "#### Without ordering you cannot use an index to call back numbers\n",
    "\n",
    "a_set[0]\n",
    "\n",
    "Try it below to see what happens."
   ]
  },
  {
   "cell_type": "code",
   "execution_count": null,
   "id": "8ef099dd",
   "metadata": {},
   "outputs": [],
   "source": []
  },
  {
   "cell_type": "markdown",
   "id": "a3ceb978",
   "metadata": {},
   "source": [
    "#### Mutability\n",
    "\n",
    "Because of the prior issue, sets cannot be changed in the same way.\n",
    "\n",
    "a_set[0] = 0 Does not work\n",
    "\n",
    "You can append a set however with a_set.add()\n",
    "\n",
    "a_set.add(5) will add 5 to the set, try it below.\n",
    "\n",
    "Consider trying it with a number already in the set and see what happens"
   ]
  },
  {
   "cell_type": "code",
   "execution_count": null,
   "id": "21e43f07",
   "metadata": {},
   "outputs": [],
   "source": []
  },
  {
   "cell_type": "markdown",
   "id": "f22e39a1",
   "metadata": {},
   "source": [
    "# Lastly Dictionaries\n",
    "\n",
    "Dictionaries are more complex but the most pwerful in organizing.\n",
    "Indexes and Keys are used so that you can organize data Logically with names\n",
    "\n",
    "\n",
    "These are created differently using \n",
    "\n",
    "a_dictionary = {\"First\" : [\"Tanner\",\"Steven\",\"Jimmy\"],\"Last\" : [\"McCullough\",\"Mac\",\"Brown\"]}\n",
    "\n",
    "Try it below, you can copy the dictionary above and replace it with your own values for time if you wish."
   ]
  },
  {
   "cell_type": "code",
   "execution_count": null,
   "id": "535fe23a",
   "metadata": {},
   "outputs": [],
   "source": []
  },
  {
   "cell_type": "markdown",
   "id": "59dedd2f",
   "metadata": {},
   "source": [
    "#### Calling back the list within a column is similar but calling the name of the key.\n",
    "\n",
    "a_dictionary[\"First\"]\n",
    "\n",
    "Try it again below."
   ]
  },
  {
   "cell_type": "code",
   "execution_count": null,
   "id": "1818317b",
   "metadata": {},
   "outputs": [],
   "source": []
  },
  {
   "cell_type": "markdown",
   "id": "ca40d374",
   "metadata": {},
   "source": [
    "#### Calling an individual name from a column uses a [key][index] pair.\n",
    "\n",
    "a_dictionary[\"First\"][0]\n",
    "\n",
    "Try it again below."
   ]
  },
  {
   "cell_type": "code",
   "execution_count": null,
   "id": "e2c21d92",
   "metadata": {},
   "outputs": [],
   "source": []
  },
  {
   "cell_type": "markdown",
   "id": "c491ba66",
   "metadata": {},
   "source": [
    "#### Calling an individual name from a column using a [index] results in an error.\n",
    "\n",
    "a_dictionary[0]\n",
    "\n",
    "Calling rows is more difficult with this. We will show a more advanced version of this that is easier to use later in the lecture called DataFrames."
   ]
  },
  {
   "cell_type": "code",
   "execution_count": null,
   "id": "7e7ca7a4",
   "metadata": {},
   "outputs": [],
   "source": []
  }
 ],
 "metadata": {
    "kernelspec": {
        "display_name": "ct-justiceindata",
        "language": "python",
        "name": "ct-justiceindata"
      },
  "language_info": {
   "codemirror_mode": {
    "name": "ipython",
    "version": 3
   },
   "file_extension": ".py",
   "mimetype": "text/x-python",
   "name": "python",
   "nbconvert_exporter": "python",
   "pygments_lexer": "ipython3",
   "version": "3.11.3"
  }
 },
 "nbformat": 4,
 "nbformat_minor": 5
}
