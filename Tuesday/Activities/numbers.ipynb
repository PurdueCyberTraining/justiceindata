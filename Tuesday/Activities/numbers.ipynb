{
 "cells": [
  {
   "cell_type": "markdown",
   "id": "3c5c2051",
   "metadata": {},
   "source": [
    "# Variables - Numbers\n",
    "\n",
    "### We will create numbers in this script"
   ]
  },
  {
   "cell_type": "code",
   "execution_count": null,
   "id": "b0d59e3e",
   "metadata": {},
   "outputs": [],
   "source": [
    "#Here is an example of  comments, using the pound or hastag at the beginning of a line\n",
    "#No code will be run.\n",
    "\n",
    "#Comments will be provided through the scripts to give hints and guidance for what certain command and functions do.\n",
    "\n",
    "#We will assign numbers"
   ]
  },
  {
   "cell_type": "markdown",
   "id": "0d9c1887",
   "metadata": {},
   "source": [
    "### First we will create some variables names\n",
    "\n",
    "##### But to do this in Python a value must be assigned first\n",
    "\n",
    "An Example is shown below"
   ]
  },
  {
   "cell_type": "code",
   "execution_count": null,
   "id": "a8738bf5",
   "metadata": {},
   "outputs": [],
   "source": [
    "This_is_a_number = 10"
   ]
  },
  {
   "cell_type": "markdown",
   "id": "435eeed0",
   "metadata": {},
   "source": [
    "### Now Try to show this number on screen\n",
    "You can do this in Jupyter by calling the variable number and NOT assigning it\n",
    "\n",
    "###### Try it in the cell below this and run the cell with Shift+Enter to see the output\n",
    "\n",
    "To call a variable, just type the variable name and Jupyter will return it's value"
   ]
  },
  {
   "cell_type": "code",
   "execution_count": null,
   "id": "5ca3ac0c",
   "metadata": {},
   "outputs": [],
   "source": []
  },
  {
   "cell_type": "markdown",
   "id": "b7098cc2",
   "metadata": {},
   "source": [
    "# Variable Naming\n",
    "### Note that variable names cannot include certain characters or spaces\n",
    "\n",
    "Try running the cell below to see what happens"
   ]
  },
  {
   "cell_type": "code",
   "execution_count": null,
   "id": "0d397100",
   "metadata": {},
   "outputs": [],
   "source": [
    "This is a number = 10"
   ]
  },
  {
   "cell_type": "markdown",
   "id": "87d7af9f",
   "metadata": {},
   "source": [
    "### The word 'is' is one of many special terms used for logical programming and cannot be used by itself\n",
    "\n",
    "##### In addition, python does not know where 10 should be assigned, is it to This? or is? or a? etc.\n",
    "\n",
    "##### An easy rule of thumb in Jupyter is if a word you finished typing is any color other than black, then it has a reserved function.\n",
    "\n",
    "Reserved functions cannot be used as variable names by themselves\n",
    "\n",
    "##### Will not work\n",
    "This is a number = 10\n",
    "\n",
    "@this_is_a_variable = 100\n",
    "\n",
    "##### Will work\n",
    "This_is_a_number = 10\n",
    "number1 = \n",
    "\n",
    "\n",
    "In addition, python treats spaces uniquely for variables and does not not where to assign 100 in the example."
   ]
  },
  {
   "cell_type": "markdown",
   "id": "263f3e83",
   "metadata": {},
   "source": [
    "## Variable Assignment & Multiple Assignments\n",
    "\n",
    "##### Variable Assignment works in 1 direction only\n",
    "\n",
    "Try running the cell below to see what happens"
   ]
  },
  {
   "cell_type": "code",
   "execution_count": null,
   "id": "2e9bb231",
   "metadata": {},
   "outputs": [],
   "source": [
    "10 = This_is_a_number"
   ]
  },
  {
   "cell_type": "markdown",
   "id": "5174621a",
   "metadata": {},
   "source": [
    "###### 10 Cannot be assigned as it is a number and not a variable\n",
    "\n",
    "If you have a variable on each side and do the same thing as earlier the left will match the value on the right.\n",
    "\n",
    "### Try Creating 2 variables and assign one to the other and see what happens\n",
    "\n",
    "Try creating 2 variables,\n",
    "\n",
    "a = 1\n",
    "\n",
    "b = 2\n",
    "\n",
    "Then assign b to a"
   ]
  },
  {
   "cell_type": "code",
   "execution_count": null,
   "id": "5ade73a6",
   "metadata": {},
   "outputs": [],
   "source": []
  },
  {
   "cell_type": "markdown",
   "id": "8b9cc486",
   "metadata": {},
   "source": [
    "### Call back both variables to see what each variable is equal to\n",
    "\n",
    "You can call back more than one variable by seperating them with commas on the same line\n",
    "\n",
    "a,b"
   ]
  },
  {
   "cell_type": "code",
   "execution_count": null,
   "id": "0297e5ef",
   "metadata": {},
   "outputs": [],
   "source": []
  },
  {
   "cell_type": "markdown",
   "id": "dfc07bf9",
   "metadata": {},
   "source": [
    "### Multiple Assignments\n",
    "\n",
    "Variables can be assigned all on the same line with commas as seperators with numbers in respective order.\n",
    "\n",
    "An example is below"
   ]
  },
  {
   "cell_type": "code",
   "execution_count": null,
   "id": "50c62648",
   "metadata": {},
   "outputs": [],
   "source": [
    "variable_1, variable_2, variable_3 = 10,55,2.55"
   ]
  },
  {
   "cell_type": "code",
   "execution_count": null,
   "id": "1fcc28c7",
   "metadata": {},
   "outputs": [],
   "source": [
    "#Multiple variables  can be called this way as well.\n",
    "#It can be a nice way to organize and cleaen code up for readability\n",
    "variable_1, variable_2, variable_3"
   ]
  },
  {
   "cell_type": "markdown",
   "id": "061e17e9",
   "metadata": {},
   "source": [
    "### Final Numbers Lesson\n",
    "\n",
    "Some things early python programmers run into is the difference of number types"
   ]
  },
  {
   "cell_type": "code",
   "execution_count": 6,
   "id": "e9788b8f",
   "metadata": {},
   "outputs": [
    {
     "data": {
      "text/plain": [
       "(10, 10.00000015)"
      ]
     },
     "execution_count": 6,
     "metadata": {},
     "output_type": "execute_result"
    }
   ],
   "source": [
    "integer_variable = 10\n",
    "floatingpoint_variable = 10.00000015\n",
    "integer_variable,floatingpoint_variable"
   ]
  },
  {
   "cell_type": "code",
   "execution_count": 7,
   "id": "c2012254",
   "metadata": {},
   "outputs": [
    {
     "data": {
      "text/plain": [
       "int"
      ]
     },
     "execution_count": 7,
     "metadata": {},
     "output_type": "execute_result"
    }
   ],
   "source": [
    "type(integer_variable)"
   ]
  },
  {
   "cell_type": "code",
   "execution_count": 8,
   "id": "ea314a88",
   "metadata": {},
   "outputs": [
    {
     "data": {
      "text/plain": [
       "float"
      ]
     },
     "execution_count": 8,
     "metadata": {},
     "output_type": "execute_result"
    }
   ],
   "source": [
    "type(floatingpoint_variable)"
   ]
  },
  {
   "cell_type": "markdown",
   "id": "bd319d47",
   "metadata": {},
   "source": [
    "### Variables will automatically assign to there simplest form that uses the least memory"
   ]
  },
  {
   "cell_type": "code",
   "execution_count": 9,
   "id": "8bd1879c",
   "metadata": {},
   "outputs": [
    {
     "data": {
      "text/plain": [
       "(10.00000015, 10)"
      ]
     },
     "execution_count": 9,
     "metadata": {},
     "output_type": "execute_result"
    }
   ],
   "source": [
    "integer_variable = floatingpoint_variable\n",
    "floatingpoint_variable = 10\n",
    "integer_variable,floatingpoint_variable"
   ]
  },
  {
   "cell_type": "markdown",
   "id": "5beef179",
   "metadata": {},
   "source": [
    "### Variable types can automatically change as needed"
   ]
  },
  {
   "cell_type": "code",
   "execution_count": 10,
   "id": "d7419da0",
   "metadata": {},
   "outputs": [
    {
     "data": {
      "text/plain": [
       "float"
      ]
     },
     "execution_count": 10,
     "metadata": {},
     "output_type": "execute_result"
    }
   ],
   "source": [
    "type(integer_variable)"
   ]
  },
  {
   "cell_type": "code",
   "execution_count": 11,
   "id": "26cd9ee6",
   "metadata": {},
   "outputs": [
    {
     "data": {
      "text/plain": [
       "int"
      ]
     },
     "execution_count": 11,
     "metadata": {},
     "output_type": "execute_result"
    }
   ],
   "source": [
    "type(floatingpoint_variable)"
   ]
  },
  {
   "cell_type": "markdown",
   "id": "d145276d",
   "metadata": {},
   "source": [
    "### Notice how they changed?\n",
    "\n",
    "Issues can sometimes arise when using functions as they sometimes expect certain data types.\n",
    "\n",
    "That's it for the Numbers example!"
   ]
  },
  {
   "cell_type": "code",
   "execution_count": null,
   "id": "33b1baf8",
   "metadata": {},
   "outputs": [],
   "source": []
  }
 ],
 "metadata": {
  "kernelspec": {
   "display_name": "Python 3 (ipykernel)",
   "language": "python",
   "name": "python3"
  },
  "language_info": {
   "codemirror_mode": {
    "name": "ipython",
    "version": 3
   },
   "file_extension": ".py",
   "mimetype": "text/x-python",
   "name": "python",
   "nbconvert_exporter": "python",
   "pygments_lexer": "ipython3",
   "version": "3.11.3"
  }
 },
 "nbformat": 4,
 "nbformat_minor": 5
}
