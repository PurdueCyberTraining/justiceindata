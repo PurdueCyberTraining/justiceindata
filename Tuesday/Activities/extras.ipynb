{
 "cells": [
  {
   "cell_type": "markdown",
   "id": "eda62899",
   "metadata": {},
   "source": [
    "# Loops"
   ]
  },
  {
   "cell_type": "markdown",
   "id": "e92d0b75",
   "metadata": {},
   "source": [
    "### For Loops\n",
    "\n",
    "Below is an example of a for loop in action iterating over a list.\n",
    "\n",
    "This loop counts up every time it loops and gives us the number of items it looped through in this list.\n",
    "\n",
    "### It is important to note that the code that is looped will be tabbed over in python. If this is not done you will have problems."
   ]
  },
  {
   "cell_type": "code",
   "execution_count": 4,
   "id": "eef8749e",
   "metadata": {},
   "outputs": [
    {
     "name": "stdout",
     "output_type": "stream",
     "text": [
      "4\n"
     ]
    }
   ],
   "source": [
    "words = [\"Hello\",\"no\",\"Wow!\",\"Happy\"]\n",
    "\n",
    "count=0\n",
    "\n",
    "for word in words:\n",
    "    count+=1\n",
    "print(count)"
   ]
  },
  {
   "cell_type": "markdown",
   "id": "3f8bd6ac",
   "metadata": {},
   "source": [
    "### For Loops\n",
    "\n",
    "Below is an example of a for loop in action with a set number of loops to perform.\n",
    "\n",
    "It is set to loop exactly twice\n",
    "\n",
    "it loops for every number 'i' in range of 0-2, not including 2, and prints the first 2 words in this case"
   ]
  },
  {
   "cell_type": "code",
   "execution_count": 7,
   "id": "5a6a205a",
   "metadata": {},
   "outputs": [
    {
     "name": "stdout",
     "output_type": "stream",
     "text": [
      "Hello\n",
      "no\n"
     ]
    }
   ],
   "source": [
    "words = [\"Hello\",\"no\",\"Wow!\",\"Happy\"]\n",
    "\n",
    "count=0\n",
    "\n",
    "for i in range(2):\n",
    "    print(words[i])"
   ]
  },
  {
   "cell_type": "markdown",
   "id": "445a4553",
   "metadata": {},
   "source": [
    "### While Loops & Booleans\n",
    "\n",
    "Below is an example of a while loop in where the exit condition is set outside the loop is reached from in side the loop\n",
    "\n",
    "The exit condition can dynamically change inside the loop, contrasting to the set exit a for loop has."
   ]
  },
  {
   "cell_type": "code",
   "execution_count": 18,
   "id": "ae387c9f",
   "metadata": {},
   "outputs": [
    {
     "name": "stdout",
     "output_type": "stream",
     "text": [
      "0\n",
      "1\n",
      "2\n",
      "3\n",
      "4\n",
      "5\n",
      "6\n",
      "7\n",
      "8\n",
      "9\n",
      "Exiting loop!\n"
     ]
    }
   ],
   "source": [
    "stay_in_loop = True\n",
    "counter = 0\n",
    "while stay_in_loop:\n",
    "    if counter<10:\n",
    "        print(counter)\n",
    "        counter+=1\n",
    "    else:\n",
    "        stay_in_loop = False\n",
    "        print(\"Exiting loop!\")"
   ]
  },
  {
   "cell_type": "markdown",
   "id": "252a1f5f",
   "metadata": {},
   "source": [
    "### Conditional Statements\n",
    "\n",
    "Below is an example of a simple if/else statement that checks the first letter of a word"
   ]
  },
  {
   "cell_type": "code",
   "execution_count": 19,
   "id": "20fab3cb",
   "metadata": {},
   "outputs": [
    {
     "name": "stdout",
     "output_type": "stream",
     "text": [
      "The First letter of this word is H!\n"
     ]
    }
   ],
   "source": [
    "word = \"Hello!\"\n",
    "\n",
    "if word[0] == \"H\":\n",
    "    print(\"The First letter of this word is H!\")\n",
    "else:\n",
    "    print(\"There is no H at the start of this word.\")"
   ]
  },
  {
   "cell_type": "markdown",
   "id": "04f4aaf5",
   "metadata": {},
   "source": [
    "# Functions"
   ]
  },
  {
   "cell_type": "code",
   "execution_count": 20,
   "id": "2d828a85",
   "metadata": {},
   "outputs": [],
   "source": [
    "def starts_with_h(word):\n",
    "    if word[0] == \"H\":\n",
    "        print(word + \" starts with H!\")\n",
    "    else:\n",
    "        print(word + \" doesn't start with H!\")"
   ]
  },
  {
   "cell_type": "code",
   "execution_count": 21,
   "id": "be39ff34",
   "metadata": {},
   "outputs": [],
   "source": [
    "words = [\"Hello\",\"no\",\"Wow!\",\"Happy\"]"
   ]
  },
  {
   "cell_type": "markdown",
   "id": "3c1f73a9",
   "metadata": {},
   "source": [
    "Combining this with a for loop we can now check a list of words"
   ]
  },
  {
   "cell_type": "code",
   "execution_count": 22,
   "id": "4692230f",
   "metadata": {},
   "outputs": [
    {
     "name": "stdout",
     "output_type": "stream",
     "text": [
      "Hello starts with H!\n",
      "no doesn't start with H!\n",
      "Wow! doesn't start with H!\n",
      "Happy starts with H!\n"
     ]
    }
   ],
   "source": [
    "for word in words:\n",
    "    starts_with_h(word)"
   ]
  },
  {
   "cell_type": "markdown",
   "id": "af7775a1",
   "metadata": {},
   "source": [
    "# Pandas"
   ]
  },
  {
   "cell_type": "code",
   "execution_count": 23,
   "id": "a9ed066b",
   "metadata": {},
   "outputs": [],
   "source": [
    "import pandas as pd\n",
    "#using as pd makes the library call shorter and easier to type"
   ]
  },
  {
   "cell_type": "code",
   "execution_count": 25,
   "id": "d658c6db",
   "metadata": {},
   "outputs": [],
   "source": [
    "df = pd.DataFrame()\n",
    "#Creates an empty Dataframe"
   ]
  },
  {
   "cell_type": "code",
   "execution_count": 46,
   "id": "00edc7ea",
   "metadata": {},
   "outputs": [],
   "source": [
    "df = pd.DataFrame({\"Col1\":[1,2,3],\n",
    "     \"Col2\":[4,5,6]})"
   ]
  },
  {
   "cell_type": "code",
   "execution_count": 47,
   "id": "a6ebe342",
   "metadata": {},
   "outputs": [
    {
     "data": {
      "text/html": [
       "<div>\n",
       "<style scoped>\n",
       "    .dataframe tbody tr th:only-of-type {\n",
       "        vertical-align: middle;\n",
       "    }\n",
       "\n",
       "    .dataframe tbody tr th {\n",
       "        vertical-align: top;\n",
       "    }\n",
       "\n",
       "    .dataframe thead th {\n",
       "        text-align: right;\n",
       "    }\n",
       "</style>\n",
       "<table border=\"1\" class=\"dataframe\">\n",
       "  <thead>\n",
       "    <tr style=\"text-align: right;\">\n",
       "      <th></th>\n",
       "      <th>Col1</th>\n",
       "      <th>Col2</th>\n",
       "    </tr>\n",
       "  </thead>\n",
       "  <tbody>\n",
       "    <tr>\n",
       "      <th>0</th>\n",
       "      <td>1</td>\n",
       "      <td>4</td>\n",
       "    </tr>\n",
       "    <tr>\n",
       "      <th>1</th>\n",
       "      <td>2</td>\n",
       "      <td>5</td>\n",
       "    </tr>\n",
       "    <tr>\n",
       "      <th>2</th>\n",
       "      <td>3</td>\n",
       "      <td>6</td>\n",
       "    </tr>\n",
       "  </tbody>\n",
       "</table>\n",
       "</div>"
      ],
      "text/plain": [
       "   Col1  Col2\n",
       "0     1     4\n",
       "1     2     5\n",
       "2     3     6"
      ]
     },
     "execution_count": 47,
     "metadata": {},
     "output_type": "execute_result"
    }
   ],
   "source": [
    "df.head()\n",
    "#Reads off the column names and the first few values"
   ]
  },
  {
   "cell_type": "markdown",
   "id": "4e8a0e22",
   "metadata": {},
   "source": [
    "# Numpy"
   ]
  },
  {
   "cell_type": "code",
   "execution_count": 11,
   "id": "c4dcbbb6",
   "metadata": {},
   "outputs": [],
   "source": [
    "import numpy as np"
   ]
  },
  {
   "cell_type": "code",
   "execution_count": 12,
   "id": "f5f8a803",
   "metadata": {},
   "outputs": [
    {
     "data": {
      "text/plain": [
       "array([ 0,  1,  2,  3,  4,  5,  6,  7,  8,  9, 10, 11, 12, 13, 14])"
      ]
     },
     "execution_count": 12,
     "metadata": {},
     "output_type": "execute_result"
    }
   ],
   "source": [
    "a = np.arange(15)\n",
    "a"
   ]
  },
  {
   "cell_type": "code",
   "execution_count": 16,
   "id": "8afb9be1",
   "metadata": {},
   "outputs": [
    {
     "data": {
      "text/plain": [
       "array([[ 0,  1,  2,  3,  4],\n",
       "       [ 5,  6,  7,  8,  9],\n",
       "       [10, 11, 12, 13, 14]])"
      ]
     },
     "execution_count": 16,
     "metadata": {},
     "output_type": "execute_result"
    }
   ],
   "source": [
    "a = np.arange(15).reshape(3, 5)\n",
    "a"
   ]
  },
  {
   "cell_type": "code",
   "execution_count": null,
   "id": "efe2c75a",
   "metadata": {},
   "outputs": [],
   "source": [
    "#Numpy can do element wise operations much faster than usual loops can\n",
    "a"
   ]
  },
  {
   "cell_type": "markdown",
   "id": "c5c59dca",
   "metadata": {},
   "source": [
    "# Extra Functions"
   ]
  },
  {
   "cell_type": "markdown",
   "id": "fcb2f357",
   "metadata": {},
   "source": [
    "### time.sleep\n",
    "\n",
    "### datetime\n",
    "##### (among other functions from time, this can be used to record and convert time, stop a program or measure how long a program runs)"
   ]
  },
  {
   "cell_type": "code",
   "execution_count": 27,
   "id": "abdda7b2",
   "metadata": {
    "scrolled": true
   },
   "outputs": [
    {
     "name": "stdout",
     "output_type": "stream",
     "text": [
      "Waiting...\n",
      "Done!\n"
     ]
    }
   ],
   "source": [
    "import time\n",
    "print(\"Waiting...\")\n",
    "time.sleep(3)\n",
    "print(\"Done!\")"
   ]
  },
  {
   "cell_type": "code",
   "execution_count": 37,
   "id": "4d37459f",
   "metadata": {},
   "outputs": [
    {
     "name": "stdout",
     "output_type": "stream",
     "text": [
      "2023-05-19 19:28:51.669548\n"
     ]
    }
   ],
   "source": [
    "from datetime import datetime\n",
    "\n",
    "now = datetime.now() # Gets the current time in a computer friendly language\n",
    "print(now)\n",
    "#This can give you ridiculous precision with time recordings"
   ]
  },
  {
   "cell_type": "markdown",
   "id": "42c1018e",
   "metadata": {},
   "source": [
    "### string.split()\n",
    "\n",
    "Going back to the previous example the string library provides the ability to split phrases and words to a list.\n",
    "\n",
    "Let's look at an example with a date as a string"
   ]
  },
  {
   "cell_type": "code",
   "execution_count": 49,
   "id": "f40d0200",
   "metadata": {
    "scrolled": true
   },
   "outputs": [
    {
     "name": "stdout",
     "output_type": "stream",
     "text": [
      "['100', '757', '675']\n"
     ]
    }
   ],
   "source": [
    "values = \"100 757 675\"\n",
    "\n",
    "numbers = values.split()\n",
    "print(numbers)"
   ]
  },
  {
   "cell_type": "markdown",
   "id": "c274ac94",
   "metadata": {},
   "source": [
    "### int()\n",
    "\n",
    "The previous example is nice but it would the values given are still strings and have no numerical value\n",
    "\n",
    "We can fix this using the int() command, this attempts to create a real number from the string.\n",
    "\n",
    "One of these will give an error but one will not"
   ]
  },
  {
   "cell_type": "code",
   "execution_count": 63,
   "id": "0c97b986",
   "metadata": {},
   "outputs": [
    {
     "ename": "TypeError",
     "evalue": "unsupported operand type(s) for +: 'int' and 'str'",
     "output_type": "error",
     "traceback": [
      "\u001b[1;31m---------------------------------------------------------------------------\u001b[0m",
      "\u001b[1;31mTypeError\u001b[0m                                 Traceback (most recent call last)",
      "Cell \u001b[1;32mIn[63], line 1\u001b[0m\n\u001b[1;32m----> 1\u001b[0m \u001b[38;5;241;43m10\u001b[39;49m\u001b[38;5;241;43m+\u001b[39;49m\u001b[43mnumbers\u001b[49m\u001b[43m[\u001b[49m\u001b[38;5;241;43m0\u001b[39;49m\u001b[43m]\u001b[49m\n",
      "\u001b[1;31mTypeError\u001b[0m: unsupported operand type(s) for +: 'int' and 'str'"
     ]
    }
   ],
   "source": [
    "10+numbers[0]"
   ]
  },
  {
   "cell_type": "code",
   "execution_count": 64,
   "id": "07828d60",
   "metadata": {},
   "outputs": [
    {
     "data": {
      "text/plain": [
       "110"
      ]
     },
     "execution_count": 64,
     "metadata": {},
     "output_type": "execute_result"
    }
   ],
   "source": [
    "10+int(numbers[0])"
   ]
  },
  {
   "cell_type": "markdown",
   "id": "d8188bbd",
   "metadata": {},
   "source": [
    "## OS commands\n",
    "\n",
    "\n",
    "#### The OS library allows you to manipulate files if you are not using a libraries built in functions\n",
    "#### It can get you directories, and perform certain console functiosn as well as other things"
   ]
  },
  {
   "cell_type": "code",
   "execution_count": 4,
   "id": "c57b9adc",
   "metadata": {},
   "outputs": [],
   "source": [
    "import os"
   ]
  },
  {
   "cell_type": "code",
   "execution_count": 5,
   "id": "cdd92361",
   "metadata": {},
   "outputs": [
    {
     "data": {
      "text/plain": [
       "'C:\\\\Users\\\\McCulloughStevenTann\\\\OneDrive - UT Arlington\\\\Projects\\\\2023\\\\NSF CyberTraining\\\\Examples\\\\Intro to Python - Tuesday Session'"
      ]
     },
     "execution_count": 5,
     "metadata": {},
     "output_type": "execute_result"
    }
   ],
   "source": [
    "#This will get the directory the script is running in. Useful for opening files.\n",
    "os.getcwd()"
   ]
  },
  {
   "cell_type": "code",
   "execution_count": null,
   "id": "70a61611",
   "metadata": {},
   "outputs": [],
   "source": []
  }
 ],
 "metadata": {
    "kernelspec": {
        "display_name": "ct-justiceindata",
        "language": "python",
        "name": "ct-justiceindata"
      },
  "language_info": {
   "codemirror_mode": {
    "name": "ipython",
    "version": 3
   },
   "file_extension": ".py",
   "mimetype": "text/x-python",
   "name": "python",
   "nbconvert_exporter": "python",
   "pygments_lexer": "ipython3",
   "version": "3.11.3"
  }
 },
 "nbformat": 4,
 "nbformat_minor": 5
}
