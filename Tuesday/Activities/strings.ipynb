{
 "cells": [
  {
   "cell_type": "markdown",
   "id": "83d721f4",
   "metadata": {},
   "source": [
    "# Variables - Strings\n",
    "\n",
    "### Strings are just lists of characters, the same modification techniques can be applied to clean, fix and adjsut text.\n",
    "\n",
    "\n",
    "These methods are helpful for text mining as well as other things invloving textual data like filenames."
   ]
  },
  {
   "cell_type": "markdown",
   "id": "e5aaea1c",
   "metadata": {},
   "source": [
    "# Creating strings\n",
    "\n",
    "These methods are helpful for text mining as well as other things invloving textual data like filenames.\n",
    "\n",
    "There are 2 Methods for creating strings.\n",
    "\n",
    "\"Double Quotations\" and 'Single Quotations'\n",
    "\n",
    "For this activity we will use double quotes.\n",
    "\n",
    "##### First create a string below with your first name.\n",
    "\n",
    "name = \"yourname\""
   ]
  },
  {
   "cell_type": "code",
   "execution_count": null,
   "id": "b77bec37",
   "metadata": {},
   "outputs": [],
   "source": []
  },
  {
   "cell_type": "markdown",
   "id": "04e58661",
   "metadata": {},
   "source": [
    "# Grabbing a character from the string\n",
    "\n",
    "##### You can grab a single character by the same method you would call a value from a list\n",
    "\n",
    "Try it below\n",
    "\n",
    "Hint list_variable[index] is the syntax"
   ]
  },
  {
   "cell_type": "code",
   "execution_count": null,
   "id": "cd7e6cab",
   "metadata": {},
   "outputs": [],
   "source": []
  },
  {
   "cell_type": "markdown",
   "id": "4e196cf3",
   "metadata": {},
   "source": [
    "# Splitting Strings\n",
    "\n",
    "##### You can split strings into a list of words or sentences based on what the seperator is.\n",
    "\n",
    "\n",
    "This is called by the .split(\"seperator\") method.\n",
    "Where the seperator can be any word or character.\n",
    "\n",
    "##### If none is specified then a single space is used.\n",
    "\n",
    "Assign a new list to the split of a string. Try creating a sentence below and splitting it into a list.\n",
    "\n",
    "###### Example\n",
    "\n",
    "sentence = \"Hello my name is Tanner\"\n",
    "\n",
    "list_of_words = sentence.split()"
   ]
  },
  {
   "cell_type": "code",
   "execution_count": null,
   "id": "30fc33e6",
   "metadata": {},
   "outputs": [],
   "source": []
  },
  {
   "cell_type": "markdown",
   "id": "23ae94f4",
   "metadata": {},
   "source": [
    "#### Call the first word in the list like you would with a list\n",
    "\n",
    "Hint variable[index] is the syntax"
   ]
  },
  {
   "cell_type": "code",
   "execution_count": null,
   "id": "62e58d73",
   "metadata": {},
   "outputs": [],
   "source": []
  },
  {
   "cell_type": "markdown",
   "id": "cf74bb94",
   "metadata": {},
   "source": [
    "#### Many other methods exist for string manipulation\n",
    "\n",
    "Strings can be made into all upper case, lower case, can be re-organized and etc with a variety of commands like the split one."
   ]
  },
  {
   "cell_type": "code",
   "execution_count": null,
   "id": "1a1cff21",
   "metadata": {},
   "outputs": [],
   "source": []
  }
 ],
 "metadata": {
    "kernelspec": {
        "display_name": "ct-justiceindata",
        "language": "python",
        "name": "ct-justiceindata"
      },
  "language_info": {
   "codemirror_mode": {
    "name": "ipython",
    "version": 3
   },
   "file_extension": ".py",
   "mimetype": "text/x-python",
   "name": "python",
   "nbconvert_exporter": "python",
   "pygments_lexer": "ipython3",
   "version": "3.11.3"
  }
 },
 "nbformat": 4,
 "nbformat_minor": 5
}
